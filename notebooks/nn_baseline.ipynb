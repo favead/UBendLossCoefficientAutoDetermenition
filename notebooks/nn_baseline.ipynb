{
 "cells": [
  {
   "cell_type": "code",
   "execution_count": 11,
   "metadata": {},
   "outputs": [],
   "source": [
    "import matplotlib.pyplot as plt\n",
    "import numpy as np\n",
    "import pandas as pd\n",
    "from sklearn.preprocessing import MinMaxScaler\n",
    "from sklearn.metrics import r2_score\n",
    "import torch\n",
    "from torch.utils.data import Dataset, DataLoader\n",
    "from torch import nn\n",
    "from torch.optim import Adam\n",
    "from torch.optim.lr_scheduler import StepLR\n",
    "import tqdm"
   ]
  },
  {
   "cell_type": "code",
   "execution_count": 3,
   "metadata": {},
   "outputs": [],
   "source": [
    "train_df = pd.read_csv(\"../data/processed/train.csv\")\n",
    "train_X = train_df.drop(['pt_loss'], axis=1)\n",
    "\n",
    "val_df = pd.read_csv(\"../data/processed/train.csv\")\n",
    "val_X = val_df.drop(['pt_loss'], axis=1)"
   ]
  },
  {
   "cell_type": "code",
   "execution_count": 4,
   "metadata": {},
   "outputs": [],
   "source": [
    "scaler = MinMaxScaler()\n",
    "train_df.loc[:, :'RE'] = scaler.fit_transform(train_X.values)\n",
    "val_df.loc[:, :'RE'] = scaler.transform(val_X.values)"
   ]
  },
  {
   "cell_type": "code",
   "execution_count": 5,
   "metadata": {},
   "outputs": [],
   "source": [
    "class PtLossDataset(Dataset):\n",
    "    def __init__(self, df: pd.DataFrame) -> None:\n",
    "        super().__init__()\n",
    "        self.length = df.shape[0]\n",
    "        self.params = df.drop('pt_loss', axis=1).values.astype(np.float32)\n",
    "        self.losses = df['pt_loss'].values.astype(np.float32)\n",
    "    \n",
    "    def __getitem__(self, ind: int) -> tuple[np.ndarray, np.ndarray]:\n",
    "        return self.params[ind, :], self.losses[ind]\n",
    "    \n",
    "    def __len__(self) -> int:\n",
    "        return self.length"
   ]
  },
  {
   "cell_type": "code",
   "execution_count": 6,
   "metadata": {},
   "outputs": [],
   "source": [
    "train_dataset = PtLossDataset(train_df)\n",
    "val_dataset = PtLossDataset(val_df)\n",
    "\n",
    "train_loader = DataLoader(train_dataset, shuffle=True, batch_size=32, num_workers=4)\n",
    "val_loader = DataLoader(val_dataset, shuffle=False, batch_size=32, num_workers=4)"
   ]
  },
  {
   "cell_type": "code",
   "execution_count": 7,
   "metadata": {},
   "outputs": [],
   "source": [
    "from collections import OrderedDict\n",
    "\n",
    "\n",
    "class PtLossRegressor(nn.Module):\n",
    "    def __init__(\n",
    "        self,\n",
    "        input_dim: int,\n",
    "        hidden_dim: int,\n",
    "        output_dim: int = 1,\n",
    "        num_layers: int = 2,\n",
    "    ) -> None:\n",
    "        super().__init__()\n",
    "\n",
    "        self.layers = self._create_linear_layer(0, input_dim, hidden_dim)\n",
    "        for i in range(num_layers - 2):\n",
    "            self.layers += self._create_linear_layer(\n",
    "                i + 1, hidden_dim, hidden_dim\n",
    "            )\n",
    "\n",
    "        self.layers += self._create_linear_layer(\n",
    "            num_layers - 1, hidden_dim, output_dim, is_last=True\n",
    "        )\n",
    "        self.layers = nn.Sequential(OrderedDict(self.layers))\n",
    "\n",
    "    def _create_linear_layer(\n",
    "        self, num: int, input_dim: int, output_dim: int, is_last: bool = False\n",
    "    ) -> list[tuple[str, nn.Module]]:\n",
    "        layers = [(f\"lin_{num}\", nn.Linear(input_dim, output_dim))]\n",
    "        if not is_last:\n",
    "            layers.append((f\"relu_{num}\", nn.Tanh()))\n",
    "        return layers\n",
    "\n",
    "    def forward(self, X: torch.Tensor) -> torch.Tensor:\n",
    "        return self.layers(X)"
   ]
  },
  {
   "cell_type": "code",
   "execution_count": 20,
   "metadata": {},
   "outputs": [],
   "source": [
    "model = PtLossRegressor(7, 7, 1, num_layers=2).float()\n",
    "loss_func = nn.MSELoss()"
   ]
  },
  {
   "cell_type": "code",
   "execution_count": 21,
   "metadata": {},
   "outputs": [],
   "source": [
    "optim = Adam(model.parameters(), lr=1e-3)\n",
    "scheduler = StepLR(optim, step_size=100, gamma=0.1)"
   ]
  },
  {
   "cell_type": "code",
   "execution_count": 30,
   "metadata": {},
   "outputs": [
    {
     "name": "stderr",
     "output_type": "stream",
     "text": [
      "  2%|▏         | 10/500 [00:03<02:40,  3.06it/s]"
     ]
    },
    {
     "name": "stdout",
     "output_type": "stream",
     "text": [
      "##################################################\n",
      "Epoch: 10 / 500\n",
      "Train loss: 0.005259574032388628\n",
      "Train r2 score: 0.7146294472064194\n",
      "Val loss: 0.00535859472118318\n",
      "Val r2 score: 0.7149855121884272\n",
      "##################################################\n",
      "\n"
     ]
    },
    {
     "name": "stderr",
     "output_type": "stream",
     "text": [
      "  4%|▍         | 20/500 [00:06<02:17,  3.50it/s]"
     ]
    },
    {
     "name": "stdout",
     "output_type": "stream",
     "text": [
      "##################################################\n",
      "Epoch: 20 / 500\n",
      "Train loss: 0.005208591823466122\n",
      "Train r2 score: 0.7185515947999391\n",
      "Val loss: 0.005355975334532559\n",
      "Val r2 score: 0.7177451680324825\n",
      "##################################################\n",
      "\n"
     ]
    },
    {
     "name": "stderr",
     "output_type": "stream",
     "text": [
      "  6%|▌         | 30/500 [00:09<02:10,  3.60it/s]"
     ]
    },
    {
     "name": "stdout",
     "output_type": "stream",
     "text": [
      "##################################################\n",
      "Epoch: 30 / 500\n",
      "Train loss: 0.005184315014630556\n",
      "Train r2 score: 0.7226969842448204\n",
      "Val loss: 0.005328041105531156\n",
      "Val r2 score: 0.7194569873102542\n",
      "##################################################\n",
      "\n"
     ]
    },
    {
     "name": "stderr",
     "output_type": "stream",
     "text": [
      "  8%|▊         | 40/500 [00:11<02:11,  3.51it/s]"
     ]
    },
    {
     "name": "stdout",
     "output_type": "stream",
     "text": [
      "##################################################\n",
      "Epoch: 40 / 500\n",
      "Train loss: 0.005084444701205939\n",
      "Train r2 score: 0.7254378298260664\n",
      "Val loss: 0.005226969891227781\n",
      "Val r2 score: 0.7253753789203298\n",
      "##################################################\n",
      "\n"
     ]
    },
    {
     "name": "stderr",
     "output_type": "stream",
     "text": [
      " 10%|█         | 50/500 [00:15<02:09,  3.47it/s]"
     ]
    },
    {
     "name": "stdout",
     "output_type": "stream",
     "text": [
      "##################################################\n",
      "Epoch: 50 / 500\n",
      "Train loss: 0.0051306490600109105\n",
      "Train r2 score: 0.7221814131787053\n",
      "Val loss: 0.005215650242753327\n",
      "Val r2 score: 0.7266763477905301\n",
      "##################################################\n",
      "\n"
     ]
    },
    {
     "name": "stderr",
     "output_type": "stream",
     "text": [
      " 12%|█▏        | 60/500 [00:17<02:13,  3.29it/s]"
     ]
    },
    {
     "name": "stdout",
     "output_type": "stream",
     "text": [
      "##################################################\n",
      "Epoch: 60 / 500\n",
      "Train loss: 0.0050770295364782215\n",
      "Train r2 score: 0.7306939932751952\n",
      "Val loss: 0.005141480290330946\n",
      "Val r2 score: 0.7281848770911463\n",
      "##################################################\n",
      "\n"
     ]
    },
    {
     "name": "stderr",
     "output_type": "stream",
     "text": [
      " 14%|█▍        | 70/500 [00:20<02:08,  3.35it/s]"
     ]
    },
    {
     "name": "stdout",
     "output_type": "stream",
     "text": [
      "##################################################\n",
      "Epoch: 70 / 500\n",
      "Train loss: 0.004977921550162137\n",
      "Train r2 score: 0.7453031245014797\n",
      "Val loss: 0.005097980052232743\n",
      "Val r2 score: 0.7330380209877957\n",
      "##################################################\n",
      "\n"
     ]
    },
    {
     "name": "stderr",
     "output_type": "stream",
     "text": [
      " 16%|█▌        | 80/500 [00:23<02:07,  3.29it/s]"
     ]
    },
    {
     "name": "stdout",
     "output_type": "stream",
     "text": [
      "##################################################\n",
      "Epoch: 80 / 500\n",
      "Train loss: 0.005143856289796531\n",
      "Train r2 score: 0.7447280080464193\n",
      "Val loss: 0.0050725051155313845\n",
      "Val r2 score: 0.7334361265505381\n",
      "##################################################\n",
      "\n"
     ]
    },
    {
     "name": "stderr",
     "output_type": "stream",
     "text": [
      " 18%|█▊        | 90/500 [00:26<01:56,  3.51it/s]"
     ]
    },
    {
     "name": "stdout",
     "output_type": "stream",
     "text": [
      "##################################################\n",
      "Epoch: 90 / 500\n",
      "Train loss: 0.004943120758980513\n",
      "Train r2 score: 0.7400124892614574\n",
      "Val loss: 0.005114277903921902\n",
      "Val r2 score: 0.7338774013045598\n",
      "##################################################\n",
      "\n"
     ]
    },
    {
     "name": "stderr",
     "output_type": "stream",
     "text": [
      " 20%|██        | 100/500 [00:29<01:48,  3.69it/s]"
     ]
    },
    {
     "name": "stdout",
     "output_type": "stream",
     "text": [
      "##################################################\n",
      "Epoch: 100 / 500\n",
      "Train loss: 0.004912875797599554\n",
      "Train r2 score: 0.7488625910017354\n",
      "Val loss: 0.005013315263204277\n",
      "Val r2 score: 0.7395797909571121\n",
      "##################################################\n",
      "\n"
     ]
    },
    {
     "name": "stderr",
     "output_type": "stream",
     "text": [
      " 22%|██▏       | 110/500 [00:32<01:47,  3.63it/s]"
     ]
    },
    {
     "name": "stdout",
     "output_type": "stream",
     "text": [
      "##################################################\n",
      "Epoch: 110 / 500\n",
      "Train loss: 0.00487937131896615\n",
      "Train r2 score: 0.755124217858073\n",
      "Val loss: 0.0050089956168085335\n",
      "Val r2 score: 0.739299371345851\n",
      "##################################################\n",
      "\n"
     ]
    },
    {
     "name": "stderr",
     "output_type": "stream",
     "text": [
      " 24%|██▍       | 120/500 [00:35<01:50,  3.45it/s]"
     ]
    },
    {
     "name": "stdout",
     "output_type": "stream",
     "text": [
      "##################################################\n",
      "Epoch: 120 / 500\n",
      "Train loss: 0.00493244462646544\n",
      "Train r2 score: 0.7427282143438344\n",
      "Val loss: 0.005009993221610784\n",
      "Val r2 score: 0.7374793064004109\n",
      "##################################################\n",
      "\n"
     ]
    },
    {
     "name": "stderr",
     "output_type": "stream",
     "text": [
      " 26%|██▌       | 130/500 [00:38<01:41,  3.63it/s]"
     ]
    },
    {
     "name": "stdout",
     "output_type": "stream",
     "text": [
      "##################################################\n",
      "Epoch: 130 / 500\n",
      "Train loss: 0.005204401882365346\n",
      "Train r2 score: 0.6975146085728425\n",
      "Val loss: 0.005001621223054826\n",
      "Val r2 score: 0.7398366126676856\n",
      "##################################################\n",
      "\n"
     ]
    },
    {
     "name": "stderr",
     "output_type": "stream",
     "text": [
      " 28%|██▊       | 140/500 [00:40<01:40,  3.58it/s]"
     ]
    },
    {
     "name": "stdout",
     "output_type": "stream",
     "text": [
      "##################################################\n",
      "Epoch: 140 / 500\n",
      "Train loss: 0.004867200418375433\n",
      "Train r2 score: 0.7496144115551227\n",
      "Val loss: 0.004999698242172599\n",
      "Val r2 score: 0.7404158426041725\n",
      "##################################################\n",
      "\n"
     ]
    },
    {
     "name": "stderr",
     "output_type": "stream",
     "text": [
      " 30%|███       | 150/500 [00:43<01:34,  3.69it/s]"
     ]
    },
    {
     "name": "stdout",
     "output_type": "stream",
     "text": [
      "##################################################\n",
      "Epoch: 150 / 500\n",
      "Train loss: 0.004978785838466138\n",
      "Train r2 score: 0.7388342216232842\n",
      "Val loss: 0.004992137909866869\n",
      "Val r2 score: 0.7399169038344149\n",
      "##################################################\n",
      "\n"
     ]
    },
    {
     "name": "stderr",
     "output_type": "stream",
     "text": [
      " 32%|███▏      | 160/500 [00:46<01:46,  3.20it/s]"
     ]
    },
    {
     "name": "stdout",
     "output_type": "stream",
     "text": [
      "##################################################\n",
      "Epoch: 160 / 500\n",
      "Train loss: 0.0049046675069257615\n",
      "Train r2 score: 0.7465710729697562\n",
      "Val loss: 0.004989299941807985\n",
      "Val r2 score: 0.7406141260409684\n",
      "##################################################\n",
      "\n"
     ]
    },
    {
     "name": "stderr",
     "output_type": "stream",
     "text": [
      " 34%|███▍      | 170/500 [00:49<01:34,  3.49it/s]"
     ]
    },
    {
     "name": "stdout",
     "output_type": "stream",
     "text": [
      "##################################################\n",
      "Epoch: 170 / 500\n",
      "Train loss: 0.004843928557820618\n",
      "Train r2 score: 0.7519513557129766\n",
      "Val loss: 0.00498462279792875\n",
      "Val r2 score: 0.7404007277141323\n",
      "##################################################\n",
      "\n"
     ]
    },
    {
     "name": "stderr",
     "output_type": "stream",
     "text": [
      " 36%|███▌      | 180/500 [00:52<01:35,  3.37it/s]"
     ]
    },
    {
     "name": "stdout",
     "output_type": "stream",
     "text": [
      "##################################################\n",
      "Epoch: 180 / 500\n",
      "Train loss: 0.004872655645012856\n",
      "Train r2 score: 0.7525173548846356\n",
      "Val loss: 0.004980489197187125\n",
      "Val r2 score: 0.7408601799295232\n",
      "##################################################\n",
      "\n"
     ]
    },
    {
     "name": "stderr",
     "output_type": "stream",
     "text": [
      " 38%|███▊      | 190/500 [00:55<01:27,  3.53it/s]"
     ]
    },
    {
     "name": "stdout",
     "output_type": "stream",
     "text": [
      "##################################################\n",
      "Epoch: 190 / 500\n",
      "Train loss: 0.004858572469092905\n",
      "Train r2 score: 0.7474283523847809\n",
      "Val loss: 0.004977746699005366\n",
      "Val r2 score: 0.7416084921474884\n",
      "##################################################\n",
      "\n"
     ]
    },
    {
     "name": "stderr",
     "output_type": "stream",
     "text": [
      " 40%|████      | 200/500 [00:58<01:34,  3.19it/s]"
     ]
    },
    {
     "name": "stdout",
     "output_type": "stream",
     "text": [
      "##################################################\n",
      "Epoch: 200 / 500\n",
      "Train loss: 0.004934930864255876\n",
      "Train r2 score: 0.7534292717135882\n",
      "Val loss: 0.004975933893583715\n",
      "Val r2 score: 0.741705981028971\n",
      "##################################################\n",
      "\n"
     ]
    },
    {
     "name": "stderr",
     "output_type": "stream",
     "text": [
      " 42%|████▏     | 210/500 [01:02<02:07,  2.28it/s]"
     ]
    },
    {
     "name": "stdout",
     "output_type": "stream",
     "text": [
      "##################################################\n",
      "Epoch: 210 / 500\n",
      "Train loss: 0.004873330383561552\n",
      "Train r2 score: 0.7547788834414301\n",
      "Val loss: 0.0049750103941187266\n",
      "Val r2 score: 0.7416725908495875\n",
      "##################################################\n",
      "\n"
     ]
    },
    {
     "name": "stderr",
     "output_type": "stream",
     "text": [
      " 44%|████▍     | 220/500 [01:07<02:23,  1.96it/s]"
     ]
    },
    {
     "name": "stdout",
     "output_type": "stream",
     "text": [
      "##################################################\n",
      "Epoch: 220 / 500\n",
      "Train loss: 0.004794862909475342\n",
      "Train r2 score: 0.7567255881971475\n",
      "Val loss: 0.004974333471618592\n",
      "Val r2 score: 0.7415940114476082\n",
      "##################################################\n",
      "\n"
     ]
    },
    {
     "name": "stderr",
     "output_type": "stream",
     "text": [
      " 46%|████▌     | 230/500 [01:11<01:23,  3.22it/s]"
     ]
    },
    {
     "name": "stdout",
     "output_type": "stream",
     "text": [
      "##################################################\n",
      "Epoch: 230 / 500\n",
      "Train loss: 0.004932002355344594\n",
      "Train r2 score: 0.7465584180465353\n",
      "Val loss: 0.004974229400977493\n",
      "Val r2 score: 0.741727800391937\n",
      "##################################################\n",
      "\n"
     ]
    },
    {
     "name": "stderr",
     "output_type": "stream",
     "text": [
      " 48%|████▊     | 240/500 [01:15<01:41,  2.56it/s]"
     ]
    },
    {
     "name": "stdout",
     "output_type": "stream",
     "text": [
      "##################################################\n",
      "Epoch: 240 / 500\n",
      "Train loss: 0.004846948394551873\n",
      "Train r2 score: 0.7635740025473874\n",
      "Val loss: 0.004974213284440338\n",
      "Val r2 score: 0.7418587574184405\n",
      "##################################################\n",
      "\n"
     ]
    },
    {
     "name": "stderr",
     "output_type": "stream",
     "text": [
      " 50%|█████     | 250/500 [01:19<01:32,  2.71it/s]"
     ]
    },
    {
     "name": "stdout",
     "output_type": "stream",
     "text": [
      "##################################################\n",
      "Epoch: 250 / 500\n",
      "Train loss: 0.005245076422579586\n",
      "Train r2 score: 0.752756425077167\n",
      "Val loss: 0.0049735720502212645\n",
      "Val r2 score: 0.7418690522305065\n",
      "##################################################\n",
      "\n"
     ]
    },
    {
     "name": "stderr",
     "output_type": "stream",
     "text": [
      " 52%|█████▏    | 260/500 [01:21<01:08,  3.49it/s]"
     ]
    },
    {
     "name": "stdout",
     "output_type": "stream",
     "text": [
      "##################################################\n",
      "Epoch: 260 / 500\n",
      "Train loss: 0.004844417134299874\n",
      "Train r2 score: 0.7542232938991134\n",
      "Val loss: 0.004973251563496888\n",
      "Val r2 score: 0.7419033884072053\n",
      "##################################################\n",
      "\n"
     ]
    },
    {
     "name": "stderr",
     "output_type": "stream",
     "text": [
      " 54%|█████▍    | 270/500 [01:24<01:02,  3.67it/s]"
     ]
    },
    {
     "name": "stdout",
     "output_type": "stream",
     "text": [
      "##################################################\n",
      "Epoch: 270 / 500\n",
      "Train loss: 0.0048263164097443224\n",
      "Train r2 score: 0.7544875816814802\n",
      "Val loss: 0.004972435869276524\n",
      "Val r2 score: 0.7418833957717319\n",
      "##################################################\n",
      "\n"
     ]
    },
    {
     "name": "stderr",
     "output_type": "stream",
     "text": [
      " 56%|█████▌    | 280/500 [01:27<01:04,  3.40it/s]"
     ]
    },
    {
     "name": "stdout",
     "output_type": "stream",
     "text": [
      "##################################################\n",
      "Epoch: 280 / 500\n",
      "Train loss: 0.004867669614031911\n",
      "Train r2 score: 0.7509008837491038\n",
      "Val loss: 0.004971581101417541\n",
      "Val r2 score: 0.7416005636602513\n",
      "##################################################\n",
      "\n"
     ]
    },
    {
     "name": "stderr",
     "output_type": "stream",
     "text": [
      " 58%|█████▊    | 290/500 [01:30<01:03,  3.28it/s]"
     ]
    },
    {
     "name": "stdout",
     "output_type": "stream",
     "text": [
      "##################################################\n",
      "Epoch: 290 / 500\n",
      "Train loss: 0.0048310886695981025\n",
      "Train r2 score: 0.7565934954264506\n",
      "Val loss: 0.004972149808891118\n",
      "Val r2 score: 0.7419413898564301\n",
      "##################################################\n",
      "\n"
     ]
    },
    {
     "name": "stderr",
     "output_type": "stream",
     "text": [
      " 60%|██████    | 300/500 [01:33<00:57,  3.45it/s]"
     ]
    },
    {
     "name": "stdout",
     "output_type": "stream",
     "text": [
      "##################################################\n",
      "Epoch: 300 / 500\n",
      "Train loss: 0.004856946053914726\n",
      "Train r2 score: 0.7580853779978455\n",
      "Val loss: 0.004971855850890279\n",
      "Val r2 score: 0.741933797787453\n",
      "##################################################\n",
      "\n"
     ]
    },
    {
     "name": "stderr",
     "output_type": "stream",
     "text": [
      " 62%|██████▏   | 310/500 [01:36<00:52,  3.59it/s]"
     ]
    },
    {
     "name": "stdout",
     "output_type": "stream",
     "text": [
      "##################################################\n",
      "Epoch: 310 / 500\n",
      "Train loss: 0.004857589788734913\n",
      "Train r2 score: 0.7574090587510917\n",
      "Val loss: 0.004971771277487278\n",
      "Val r2 score: 0.7419283140314177\n",
      "##################################################\n",
      "\n"
     ]
    },
    {
     "name": "stderr",
     "output_type": "stream",
     "text": [
      " 64%|██████▍   | 320/500 [01:39<00:48,  3.71it/s]"
     ]
    },
    {
     "name": "stdout",
     "output_type": "stream",
     "text": [
      "##################################################\n",
      "Epoch: 320 / 500\n",
      "Train loss: 0.004898768849670887\n",
      "Train r2 score: 0.7549630963881251\n",
      "Val loss: 0.004971602708101272\n",
      "Val r2 score: 0.7419043167725945\n",
      "##################################################\n",
      "\n"
     ]
    },
    {
     "name": "stderr",
     "output_type": "stream",
     "text": [
      " 66%|██████▌   | 330/500 [01:42<00:48,  3.53it/s]"
     ]
    },
    {
     "name": "stdout",
     "output_type": "stream",
     "text": [
      "##################################################\n",
      "Epoch: 330 / 500\n",
      "Train loss: 0.00493374478071928\n",
      "Train r2 score: 0.7176139506106053\n",
      "Val loss: 0.004971484318375587\n",
      "Val r2 score: 0.7418858451970425\n",
      "##################################################\n",
      "\n"
     ]
    },
    {
     "name": "stderr",
     "output_type": "stream",
     "text": [
      " 68%|██████▊   | 340/500 [01:45<00:44,  3.63it/s]"
     ]
    },
    {
     "name": "stdout",
     "output_type": "stream",
     "text": [
      "##################################################\n",
      "Epoch: 340 / 500\n",
      "Train loss: 0.004861810435540974\n",
      "Train r2 score: 0.7590931208106231\n",
      "Val loss: 0.004971457524225116\n",
      "Val r2 score: 0.7418904362303412\n",
      "##################################################\n",
      "\n"
     ]
    },
    {
     "name": "stderr",
     "output_type": "stream",
     "text": [
      " 70%|███████   | 350/500 [01:48<00:45,  3.31it/s]"
     ]
    },
    {
     "name": "stdout",
     "output_type": "stream",
     "text": [
      "##################################################\n",
      "Epoch: 350 / 500\n",
      "Train loss: 0.00485521593131125\n",
      "Train r2 score: 0.7533269746801402\n",
      "Val loss: 0.004971406101249159\n",
      "Val r2 score: 0.741887906781439\n",
      "##################################################\n",
      "\n"
     ]
    },
    {
     "name": "stderr",
     "output_type": "stream",
     "text": [
      " 72%|███████▏  | 360/500 [01:51<00:38,  3.60it/s]"
     ]
    },
    {
     "name": "stdout",
     "output_type": "stream",
     "text": [
      "##################################################\n",
      "Epoch: 360 / 500\n",
      "Train loss: 0.004868721924722195\n",
      "Train r2 score: 0.7567145660737554\n",
      "Val loss: 0.004971441305242479\n",
      "Val r2 score: 0.7419056705708376\n",
      "##################################################\n",
      "\n"
     ]
    },
    {
     "name": "stderr",
     "output_type": "stream",
     "text": [
      " 74%|███████▍  | 370/500 [01:55<00:54,  2.36it/s]"
     ]
    },
    {
     "name": "stdout",
     "output_type": "stream",
     "text": [
      "##################################################\n",
      "Epoch: 370 / 500\n",
      "Train loss: 0.004814431616105139\n",
      "Train r2 score: 0.7696995874935808\n",
      "Val loss: 0.00497143151704222\n",
      "Val r2 score: 0.7419171875865165\n",
      "##################################################\n",
      "\n"
     ]
    },
    {
     "name": "stderr",
     "output_type": "stream",
     "text": [
      " 76%|███████▌  | 380/500 [01:58<00:35,  3.42it/s]"
     ]
    },
    {
     "name": "stdout",
     "output_type": "stream",
     "text": [
      "##################################################\n",
      "Epoch: 380 / 500\n",
      "Train loss: 0.0048704392928630115\n",
      "Train r2 score: 0.7593071140684774\n",
      "Val loss: 0.004971437053754925\n",
      "Val r2 score: 0.7419350928362288\n",
      "##################################################\n",
      "\n"
     ]
    },
    {
     "name": "stderr",
     "output_type": "stream",
     "text": [
      " 78%|███████▊  | 390/500 [02:01<00:30,  3.57it/s]"
     ]
    },
    {
     "name": "stdout",
     "output_type": "stream",
     "text": [
      "##################################################\n",
      "Epoch: 390 / 500\n",
      "Train loss: 0.004849307499825955\n",
      "Train r2 score: 0.74911829781313\n",
      "Val loss: 0.004971437607891858\n",
      "Val r2 score: 0.7419483301471067\n",
      "##################################################\n",
      "\n"
     ]
    },
    {
     "name": "stderr",
     "output_type": "stream",
     "text": [
      " 80%|████████  | 400/500 [02:04<00:28,  3.53it/s]"
     ]
    },
    {
     "name": "stdout",
     "output_type": "stream",
     "text": [
      "##################################################\n",
      "Epoch: 400 / 500\n",
      "Train loss: 0.004826741372235119\n",
      "Train r2 score: 0.7569576240836183\n",
      "Val loss: 0.004971377933397889\n",
      "Val r2 score: 0.7419458389850042\n",
      "##################################################\n",
      "\n"
     ]
    },
    {
     "name": "stderr",
     "output_type": "stream",
     "text": [
      " 82%|████████▏ | 410/500 [02:06<00:24,  3.75it/s]"
     ]
    },
    {
     "name": "stdout",
     "output_type": "stream",
     "text": [
      "##################################################\n",
      "Epoch: 410 / 500\n",
      "Train loss: 0.0048009024746716025\n",
      "Train r2 score: 0.7605141714270252\n",
      "Val loss: 0.004971371018327773\n",
      "Val r2 score: 0.7419454210597358\n",
      "##################################################\n",
      "\n"
     ]
    },
    {
     "name": "stderr",
     "output_type": "stream",
     "text": [
      " 84%|████████▍ | 420/500 [02:09<00:22,  3.63it/s]"
     ]
    },
    {
     "name": "stdout",
     "output_type": "stream",
     "text": [
      "##################################################\n",
      "Epoch: 420 / 500\n",
      "Train loss: 0.004841031711548567\n",
      "Train r2 score: 0.7432457730734373\n",
      "Val loss: 0.004971373151056469\n",
      "Val r2 score: 0.7419468676634676\n",
      "##################################################\n",
      "\n"
     ]
    },
    {
     "name": "stderr",
     "output_type": "stream",
     "text": [
      " 86%|████████▌ | 430/500 [02:12<00:22,  3.10it/s]"
     ]
    },
    {
     "name": "stdout",
     "output_type": "stream",
     "text": [
      "##################################################\n",
      "Epoch: 430 / 500\n",
      "Train loss: 0.004802079759538174\n",
      "Train r2 score: 0.762295060899268\n",
      "Val loss: 0.004971369253471494\n",
      "Val r2 score: 0.7419474332786309\n",
      "##################################################\n",
      "\n"
     ]
    },
    {
     "name": "stderr",
     "output_type": "stream",
     "text": [
      " 88%|████████▊ | 440/500 [02:16<00:17,  3.34it/s]"
     ]
    },
    {
     "name": "stdout",
     "output_type": "stream",
     "text": [
      "##################################################\n",
      "Epoch: 440 / 500\n",
      "Train loss: 0.00488488064147532\n",
      "Train r2 score: 0.747159744236461\n",
      "Val loss: 0.0049713687831535935\n",
      "Val r2 score: 0.7419485851095979\n",
      "##################################################\n",
      "\n"
     ]
    },
    {
     "name": "stderr",
     "output_type": "stream",
     "text": [
      " 90%|█████████ | 450/500 [02:20<00:18,  2.64it/s]"
     ]
    },
    {
     "name": "stdout",
     "output_type": "stream",
     "text": [
      "##################################################\n",
      "Epoch: 450 / 500\n",
      "Train loss: 0.004855285119265318\n",
      "Train r2 score: 0.74796734627936\n",
      "Val loss: 0.004971372429281473\n",
      "Val r2 score: 0.7419501671604799\n",
      "##################################################\n",
      "\n"
     ]
    },
    {
     "name": "stderr",
     "output_type": "stream",
     "text": [
      " 92%|█████████▏| 460/500 [02:24<00:18,  2.12it/s]"
     ]
    },
    {
     "name": "stdout",
     "output_type": "stream",
     "text": [
      "##################################################\n",
      "Epoch: 460 / 500\n",
      "Train loss: 0.004873784449882805\n",
      "Train r2 score: 0.7518338003277768\n",
      "Val loss: 0.004971366268582642\n",
      "Val r2 score: 0.7419501045240309\n",
      "##################################################\n",
      "\n"
     ]
    },
    {
     "name": "stderr",
     "output_type": "stream",
     "text": [
      " 94%|█████████▍| 470/500 [02:28<00:12,  2.37it/s]"
     ]
    },
    {
     "name": "stdout",
     "output_type": "stream",
     "text": [
      "##################################################\n",
      "Epoch: 470 / 500\n",
      "Train loss: 0.004852208024822176\n",
      "Train r2 score: 0.7496286713833985\n",
      "Val loss: 0.004971362622454762\n",
      "Val r2 score: 0.7419509441842251\n",
      "##################################################\n",
      "\n"
     ]
    },
    {
     "name": "stderr",
     "output_type": "stream",
     "text": [
      " 96%|█████████▌| 480/500 [02:32<00:06,  3.10it/s]"
     ]
    },
    {
     "name": "stdout",
     "output_type": "stream",
     "text": [
      "##################################################\n",
      "Epoch: 480 / 500\n",
      "Train loss: 0.004845834705047309\n",
      "Train r2 score: 0.7547640805534863\n",
      "Val loss: 0.0049713611090555785\n",
      "Val r2 score: 0.7419519305028203\n",
      "##################################################\n",
      "\n"
     ]
    },
    {
     "name": "stderr",
     "output_type": "stream",
     "text": [
      " 98%|█████████▊| 490/500 [02:35<00:03,  3.19it/s]"
     ]
    },
    {
     "name": "stdout",
     "output_type": "stream",
     "text": [
      "##################################################\n",
      "Epoch: 490 / 500\n",
      "Train loss: 0.004883928019553423\n",
      "Train r2 score: 0.7448912409350705\n",
      "Val loss: 0.0049713588831946254\n",
      "Val r2 score: 0.7419525430739555\n",
      "##################################################\n",
      "\n"
     ]
    },
    {
     "name": "stderr",
     "output_type": "stream",
     "text": [
      "100%|██████████| 500/500 [02:40<00:00,  3.12it/s]"
     ]
    },
    {
     "name": "stdout",
     "output_type": "stream",
     "text": [
      "##################################################\n",
      "Epoch: 500 / 500\n",
      "Train loss: 0.004873105892911554\n",
      "Train r2 score: 0.7581258525830313\n",
      "Val loss: 0.00497135900426656\n",
      "Val r2 score: 0.741953148004561\n",
      "##################################################\n",
      "\n"
     ]
    },
    {
     "name": "stderr",
     "output_type": "stream",
     "text": [
      "\n"
     ]
    }
   ],
   "source": [
    "epochs = 500\n",
    "\n",
    "tolerance = 1e-8\n",
    "n_convergence_steps = 5\n",
    "conv_counter = 0\n",
    "report_interval = 10\n",
    "\n",
    "train_loss_history = []\n",
    "val_loss_history = []\n",
    "train_metric_history = []\n",
    "val_metric_history = []\n",
    "\n",
    "for epoch in tqdm.tqdm(range(epochs)):\n",
    "\n",
    "    best_params = model.state_dict()\n",
    "    best_val_metric = 0.0\n",
    "\n",
    "    model.train()\n",
    "\n",
    "    train_mean_loss = []\n",
    "    train_mean_metric = []\n",
    "\n",
    "    for X, y in train_loader:\n",
    "        X = X.float()\n",
    "        y = y.float()\n",
    "        preds = model(X)\n",
    "        loss = loss_func(preds[:, 0], y)\n",
    "\n",
    "        optim.zero_grad()\n",
    "        loss.backward()\n",
    "        optim.step()\n",
    "\n",
    "        train_mean_loss.append(loss.item())\n",
    "        train_mean_metric.append(r2_score(y.numpy(), preds[:, 0].detach().numpy()))\n",
    "\n",
    "    train_mean_loss = np.mean(train_mean_loss)\n",
    "    train_mean_metric = np.mean(train_mean_metric)\n",
    "\n",
    "    model.eval()\n",
    "\n",
    "    val_mean_loss = []\n",
    "    val_mean_metric = []\n",
    "\n",
    "    for X, y in val_loader:\n",
    "        X = X.float()\n",
    "        y = y.float()\n",
    "        with torch.set_grad_enabled(False):\n",
    "            preds = model(X)\n",
    "            loss = loss_func(preds[:, 0], y)\n",
    "\n",
    "        val_mean_loss.append(loss.item())\n",
    "        val_mean_metric.append(r2_score(y.numpy(), preds[:, 0].numpy()))\n",
    "    \n",
    "    val_mean_loss = np.mean(val_mean_loss)\n",
    "    val_mean_metric = np.mean(val_mean_metric)\n",
    "\n",
    "    if epoch > 0:\n",
    "        if abs(train_loss_history[-1] - train_mean_loss) < tolerance:\n",
    "            if conv_counter > n_convergence_steps:\n",
    "                break\n",
    "            else:\n",
    "                conv_counter += 1\n",
    "        else:\n",
    "            conv_counter = 0\n",
    "\n",
    "    train_loss_history.append(train_mean_loss)\n",
    "    train_metric_history.append(train_mean_metric)\n",
    "    val_metric_history.append(val_mean_metric)\n",
    "    val_loss_history.append(val_mean_loss)\n",
    "\n",
    "    if (epoch + 1) % report_interval == 0:\n",
    "        print(\"#\" * 50)\n",
    "        print(f\"Epoch: {epoch + 1} / {epochs}\")\n",
    "        print(f\"Train loss: {train_loss_history[-1]}\")\n",
    "        print(f\"Train r2 score: {train_metric_history[-1]}\")\n",
    "        print(f\"Val loss: {val_loss_history[-1]}\")\n",
    "        print(f\"Val r2 score: {val_metric_history[-1]}\")\n",
    "        print(\"#\" * 50)\n",
    "        print()\n",
    "\n",
    "    if val_mean_metric > best_val_metric:\n",
    "        best_val_metric = val_mean_metric\n",
    "        best_params = model.state_dict()\n",
    "\n",
    "    scheduler.step()"
   ]
  },
  {
   "cell_type": "code",
   "execution_count": 31,
   "metadata": {},
   "outputs": [
    {
     "data": {
      "image/png": "[encoded data removed]",
      "text/plain": [
       "<Figure size 640x480 with 1 Axes>"
      ]
     },
     "metadata": {},
     "output_type": "display_data"
    }
   ],
   "source": [
    "plt.plot(train_loss_history)\n",
    "plt.title(\"train loss\")\n",
    "plt.xlabel(\"epoch\")\n",
    "plt.ylabel(\"mse\")\n",
    "plt.show()"
   ]
  },
  {
   "cell_type": "code",
   "execution_count": 33,
   "metadata": {},
   "outputs": [
    {
     "data": {
      "image/png": "[encoded data removed]",
      "text/plain": [
       "<Figure size 640x480 with 1 Axes>"
      ]
     },
     "metadata": {},
     "output_type": "display_data"
    }
   ],
   "source": [
    "plt.plot(val_loss_history)\n",
    "plt.title(\"val loss\")\n",
    "plt.xlabel(\"epoch\")\n",
    "plt.ylabel(\"mse\")\n",
    "plt.show()"
   ]
  },
  {
   "cell_type": "code",
   "execution_count": 35,
   "metadata": {},
   "outputs": [
    {
     "data": {
      "image/png": "[encoded data removed]",
      "text/plain": [
       "<Figure size 640x480 with 1 Axes>"
      ]
     },
     "metadata": {},
     "output_type": "display_data"
    }
   ],
   "source": [
    "plt.plot(train_metric_history)\n",
    "plt.title(\"train metric\")\n",
    "plt.xlabel(\"epoch\")\n",
    "plt.ylabel(\"r2\")\n",
    "plt.show()"
   ]
  },
  {
   "cell_type": "code",
   "execution_count": 36,
   "metadata": {},
   "outputs": [
    {
     "data": {
      "image/png": "[encoded data removed]",
      "text/plain": [
       "<Figure size 640x480 with 1 Axes>"
      ]
     },
     "metadata": {},
     "output_type": "display_data"
    }
   ],
   "source": [
    "plt.plot(val_metric_history)\n",
    "plt.title(\"val metric\")\n",
    "plt.xlabel(\"epoch\")\n",
    "plt.ylabel(\"r2\")\n",
    "plt.show()"
   ]
  }
 ],
 "metadata": {
  "kernelspec": {
   "display_name": ".venv",
   "language": "python",
   "name": "python3"
  },
  "language_info": {
   "codemirror_mode": {
    "name": "ipython",
    "version": 3
   },
   "file_extension": ".py",
   "mimetype": "text/x-python",
   "name": "python",
   "nbconvert_exporter": "python",
   "pygments_lexer": "ipython3",
   "version": "3.10.12"
  }
 },
 "nbformat": 4,
 "nbformat_minor": 2
}
