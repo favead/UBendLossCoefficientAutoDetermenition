{
 "cells": [
  {
   "cell_type": "code",
   "execution_count": 9,
   "metadata": {},
   "outputs": [],
   "source": [
    "import matplotlib.pyplot as plt\n",
    "import numpy as np\n",
    "import pandas as pd\n",
    "from sklearn.preprocessing import MinMaxScaler\n",
    "from sklearn.metrics import r2_score\n",
    "import torch\n",
    "from torch.utils.data import Dataset, DataLoader\n",
    "from torch import nn\n",
    "from torch.optim import Adam\n",
    "from torch.optim.lr_scheduler import StepLR\n",
    "import tqdm"
   ]
  },
  {
   "cell_type": "code",
   "execution_count": 10,
   "metadata": {},
   "outputs": [],
   "source": [
    "train_df = pd.read_csv(\"../data/processed/norm_train.csv\")\n",
    "train_X = train_df.drop(['pt_loss'], axis=1)\n",
    "\n",
    "val_df = pd.read_csv(\"../data/processed/norm_train.csv\")\n",
    "val_X = val_df.drop(['pt_loss'], axis=1)"
   ]
  },
  {
   "cell_type": "code",
   "execution_count": 11,
   "metadata": {},
   "outputs": [],
   "source": [
    "class PtLossDataset(Dataset):\n",
    "    def __init__(self, df: pd.DataFrame) -> None:\n",
    "        super().__init__()\n",
    "        self.length = df.shape[0]\n",
    "        self.params = df.drop('pt_loss', axis=1).values.astype(np.float32)\n",
    "        self.losses = df['pt_loss'].values.astype(np.float32)\n",
    "    \n",
    "    def __getitem__(self, ind: int) -> tuple[np.ndarray, np.ndarray]:\n",
    "        return self.params[ind, :], self.losses[ind]\n",
    "    \n",
    "    def __len__(self) -> int:\n",
    "        return self.length"
   ]
  },
  {
   "cell_type": "code",
   "execution_count": 12,
   "metadata": {},
   "outputs": [],
   "source": [
    "train_dataset = PtLossDataset(train_df)\n",
    "val_dataset = PtLossDataset(val_df)\n",
    "\n",
    "train_loader = DataLoader(train_dataset, shuffle=True, batch_size=32, num_workers=4)\n",
    "val_loader = DataLoader(val_dataset, shuffle=False, batch_size=32, num_workers=4)"
   ]
  },
  {
   "cell_type": "code",
   "execution_count": 13,
   "metadata": {},
   "outputs": [],
   "source": [
    "from collections import OrderedDict\n",
    "\n",
    "\n",
    "class PtLossRegressor(nn.Module):\n",
    "    def __init__(\n",
    "        self,\n",
    "        input_dim: int,\n",
    "        hidden_dim: int,\n",
    "        output_dim: int = 1,\n",
    "        num_layers: int = 2,\n",
    "    ) -> None:\n",
    "        super().__init__()\n",
    "\n",
    "        self.layers = self._create_linear_layer(0, input_dim, hidden_dim)\n",
    "        for i in range(num_layers - 2):\n",
    "            self.layers += self._create_linear_layer(\n",
    "                i + 1, hidden_dim, hidden_dim\n",
    "            )\n",
    "\n",
    "        self.layers += self._create_linear_layer(\n",
    "            num_layers - 1, hidden_dim, output_dim, is_last=True\n",
    "        )\n",
    "        self.layers = nn.Sequential(OrderedDict(self.layers))\n",
    "\n",
    "    def _create_linear_layer(\n",
    "        self, num: int, input_dim: int, output_dim: int, is_last: bool = False\n",
    "    ) -> list[tuple[str, nn.Module]]:\n",
    "        layers = [(f\"lin_{num}\", nn.Linear(input_dim, output_dim))]\n",
    "        if not is_last:\n",
    "            layers.append((f\"relu_{num}\", nn.Tanh()))\n",
    "        return layers\n",
    "\n",
    "    def forward(self, X: torch.Tensor) -> torch.Tensor:\n",
    "        return self.layers(X)"
   ]
  },
  {
   "cell_type": "code",
   "execution_count": 14,
   "metadata": {},
   "outputs": [],
   "source": [
    "model = PtLossRegressor(7, 7, 1, num_layers=2).float()\n",
    "loss_func = nn.MSELoss()"
   ]
  },
  {
   "cell_type": "code",
   "execution_count": 15,
   "metadata": {},
   "outputs": [],
   "source": [
    "optim = Adam(model.parameters(), lr=1e-3)\n",
    "scheduler = StepLR(optim, step_size=100, gamma=0.1)"
   ]
  },
  {
   "cell_type": "code",
   "execution_count": 16,
   "metadata": {},
   "outputs": [
    {
     "name": "stderr",
     "output_type": "stream",
     "text": [
      "  2%|▏         | 10/500 [00:05<05:08,  1.59it/s]"
     ]
    },
    {
     "name": "stdout",
     "output_type": "stream",
     "text": [
      "##################################################\n",
      "Epoch: 10 / 500\n",
      "Train loss: 0.007999046444892884\n",
      "Train r2 score: 0.5534302318481822\n",
      "Val loss: 0.007833492401987314\n",
      "Val r2 score: 0.5465477596932224\n",
      "##################################################\n",
      "\n"
     ]
    },
    {
     "name": "stderr",
     "output_type": "stream",
     "text": [
      "  4%|▍         | 20/500 [00:09<02:35,  3.08it/s]"
     ]
    },
    {
     "name": "stdout",
     "output_type": "stream",
     "text": [
      "##################################################\n",
      "Epoch: 20 / 500\n",
      "Train loss: 0.006020590155385435\n",
      "Train r2 score: 0.6827323708830351\n",
      "Val loss: 0.00617231909185648\n",
      "Val r2 score: 0.6607522126249896\n",
      "##################################################\n",
      "\n"
     ]
    },
    {
     "name": "stderr",
     "output_type": "stream",
     "text": [
      "  6%|▌         | 30/500 [00:12<02:19,  3.37it/s]"
     ]
    },
    {
     "name": "stdout",
     "output_type": "stream",
     "text": [
      "##################################################\n",
      "Epoch: 30 / 500\n",
      "Train loss: 0.00570617888122797\n",
      "Train r2 score: 0.7041672863508883\n",
      "Val loss: 0.0057345396699383855\n",
      "Val r2 score: 0.6881124729360307\n",
      "##################################################\n",
      "\n"
     ]
    },
    {
     "name": "stderr",
     "output_type": "stream",
     "text": [
      "  8%|▊         | 40/500 [00:15<02:11,  3.49it/s]"
     ]
    },
    {
     "name": "stdout",
     "output_type": "stream",
     "text": [
      "##################################################\n",
      "Epoch: 40 / 500\n",
      "Train loss: 0.005459549520164728\n",
      "Train r2 score: 0.7086458387074253\n",
      "Val loss: 0.005580301713198423\n",
      "Val r2 score: 0.6981931198557705\n",
      "##################################################\n",
      "\n"
     ]
    },
    {
     "name": "stderr",
     "output_type": "stream",
     "text": [
      " 10%|█         | 50/500 [00:18<02:07,  3.52it/s]"
     ]
    },
    {
     "name": "stdout",
     "output_type": "stream",
     "text": [
      "##################################################\n",
      "Epoch: 50 / 500\n",
      "Train loss: 0.005413682046346366\n",
      "Train r2 score: 0.7118984219659168\n",
      "Val loss: 0.005480030127801001\n",
      "Val r2 score: 0.706114732058211\n",
      "##################################################\n",
      "\n"
     ]
    },
    {
     "name": "stderr",
     "output_type": "stream",
     "text": [
      " 12%|█▏        | 60/500 [00:21<02:08,  3.43it/s]"
     ]
    },
    {
     "name": "stdout",
     "output_type": "stream",
     "text": [
      "##################################################\n",
      "Epoch: 60 / 500\n",
      "Train loss: 0.00532341128680855\n",
      "Train r2 score: 0.726807795471474\n",
      "Val loss: 0.005402220650576055\n",
      "Val r2 score: 0.7110866564890524\n",
      "##################################################\n",
      "\n"
     ]
    },
    {
     "name": "stderr",
     "output_type": "stream",
     "text": [
      " 14%|█▍        | 70/500 [00:24<02:04,  3.46it/s]"
     ]
    },
    {
     "name": "stdout",
     "output_type": "stream",
     "text": [
      "##################################################\n",
      "Epoch: 70 / 500\n",
      "Train loss: 0.005255467002280056\n",
      "Train r2 score: 0.7293444333578023\n",
      "Val loss: 0.005347994551993906\n",
      "Val r2 score: 0.7140735614834907\n",
      "##################################################\n",
      "\n"
     ]
    },
    {
     "name": "stderr",
     "output_type": "stream",
     "text": [
      " 16%|█▌        | 80/500 [00:27<01:59,  3.52it/s]"
     ]
    },
    {
     "name": "stdout",
     "output_type": "stream",
     "text": [
      "##################################################\n",
      "Epoch: 80 / 500\n",
      "Train loss: 0.005196102731861174\n",
      "Train r2 score: 0.7326790382636241\n",
      "Val loss: 0.005295315054245293\n",
      "Val r2 score: 0.7192642296922445\n",
      "##################################################\n",
      "\n"
     ]
    },
    {
     "name": "stderr",
     "output_type": "stream",
     "text": [
      " 18%|█▊        | 90/500 [00:30<02:17,  2.99it/s]"
     ]
    },
    {
     "name": "stdout",
     "output_type": "stream",
     "text": [
      "##################################################\n",
      "Epoch: 90 / 500\n",
      "Train loss: 0.005294693559408188\n",
      "Train r2 score: 0.71894610215308\n",
      "Val loss: 0.00524304430000484\n",
      "Val r2 score: 0.7227154024736114\n",
      "##################################################\n",
      "\n"
     ]
    },
    {
     "name": "stderr",
     "output_type": "stream",
     "text": [
      " 20%|██        | 100/500 [00:33<01:51,  3.60it/s]"
     ]
    },
    {
     "name": "stdout",
     "output_type": "stream",
     "text": [
      "##################################################\n",
      "Epoch: 100 / 500\n",
      "Train loss: 0.005180771928280592\n",
      "Train r2 score: 0.7311759574032695\n",
      "Val loss: 0.0052012742450460794\n",
      "Val r2 score: 0.7246173103318273\n",
      "##################################################\n",
      "\n"
     ]
    },
    {
     "name": "stderr",
     "output_type": "stream",
     "text": [
      " 22%|██▏       | 110/500 [00:36<01:44,  3.75it/s]"
     ]
    },
    {
     "name": "stdout",
     "output_type": "stream",
     "text": [
      "##################################################\n",
      "Epoch: 110 / 500\n",
      "Train loss: 0.005145906936377287\n",
      "Train r2 score: 0.7348564770758571\n",
      "Val loss: 0.005188317946158349\n",
      "Val r2 score: 0.7260343652437594\n",
      "##################################################\n",
      "\n"
     ]
    },
    {
     "name": "stderr",
     "output_type": "stream",
     "text": [
      " 24%|██▍       | 120/500 [00:39<01:46,  3.55it/s]"
     ]
    },
    {
     "name": "stdout",
     "output_type": "stream",
     "text": [
      "##################################################\n",
      "Epoch: 120 / 500\n",
      "Train loss: 0.0050413550389930605\n",
      "Train r2 score: 0.7300321102387091\n",
      "Val loss: 0.005180555153638125\n",
      "Val r2 score: 0.7266451386458412\n",
      "##################################################\n",
      "\n"
     ]
    },
    {
     "name": "stderr",
     "output_type": "stream",
     "text": [
      " 26%|██▌       | 130/500 [00:41<01:42,  3.60it/s]"
     ]
    },
    {
     "name": "stdout",
     "output_type": "stream",
     "text": [
      "##################################################\n",
      "Epoch: 130 / 500\n",
      "Train loss: 0.00508514410816133\n",
      "Train r2 score: 0.7348371203673355\n",
      "Val loss: 0.005175002464093268\n",
      "Val r2 score: 0.7271430673298852\n",
      "##################################################\n",
      "\n"
     ]
    },
    {
     "name": "stderr",
     "output_type": "stream",
     "text": [
      " 28%|██▊       | 140/500 [00:44<01:45,  3.41it/s]"
     ]
    },
    {
     "name": "stdout",
     "output_type": "stream",
     "text": [
      "##################################################\n",
      "Epoch: 140 / 500\n",
      "Train loss: 0.005029909131117165\n",
      "Train r2 score: 0.7471374423986387\n",
      "Val loss: 0.005167071032337845\n",
      "Val r2 score: 0.7276862587391798\n",
      "##################################################\n",
      "\n"
     ]
    },
    {
     "name": "stderr",
     "output_type": "stream",
     "text": [
      " 30%|███       | 150/500 [00:47<01:38,  3.56it/s]"
     ]
    },
    {
     "name": "stdout",
     "output_type": "stream",
     "text": [
      "##################################################\n",
      "Epoch: 150 / 500\n",
      "Train loss: 0.005057739038020373\n",
      "Train r2 score: 0.7286161995036319\n",
      "Val loss: 0.00515888609457761\n",
      "Val r2 score: 0.7283099351236306\n",
      "##################################################\n",
      "\n"
     ]
    },
    {
     "name": "stderr",
     "output_type": "stream",
     "text": [
      " 32%|███▏      | 160/500 [00:50<01:32,  3.67it/s]"
     ]
    },
    {
     "name": "stdout",
     "output_type": "stream",
     "text": [
      "##################################################\n",
      "Epoch: 160 / 500\n",
      "Train loss: 0.0050014556129463015\n",
      "Train r2 score: 0.7360158216129534\n",
      "Val loss: 0.005151223284192383\n",
      "Val r2 score: 0.7290236713714481\n",
      "##################################################\n",
      "\n"
     ]
    },
    {
     "name": "stderr",
     "output_type": "stream",
     "text": [
      " 34%|███▍      | 170/500 [00:53<01:31,  3.61it/s]"
     ]
    },
    {
     "name": "stdout",
     "output_type": "stream",
     "text": [
      "##################################################\n",
      "Epoch: 170 / 500\n",
      "Train loss: 0.00516234643291682\n",
      "Train r2 score: 0.736843337261985\n",
      "Val loss: 0.0051444316562265155\n",
      "Val r2 score: 0.7291746633114196\n",
      "##################################################\n",
      "\n"
     ]
    },
    {
     "name": "stderr",
     "output_type": "stream",
     "text": [
      " 36%|███▌      | 180/500 [00:55<01:33,  3.43it/s]"
     ]
    },
    {
     "name": "stdout",
     "output_type": "stream",
     "text": [
      "##################################################\n",
      "Epoch: 180 / 500\n",
      "Train loss: 0.005006977659650147\n",
      "Train r2 score: 0.730786062645954\n",
      "Val loss: 0.005134232663549483\n",
      "Val r2 score: 0.7296755227349336\n",
      "##################################################\n",
      "\n"
     ]
    },
    {
     "name": "stderr",
     "output_type": "stream",
     "text": [
      " 38%|███▊      | 190/500 [00:59<01:29,  3.45it/s]"
     ]
    },
    {
     "name": "stdout",
     "output_type": "stream",
     "text": [
      "##################################################\n",
      "Epoch: 190 / 500\n",
      "Train loss: 0.0049808580498211085\n",
      "Train r2 score: 0.74616627513235\n",
      "Val loss: 0.0051248491741716865\n",
      "Val r2 score: 0.7307557518045458\n",
      "##################################################\n",
      "\n"
     ]
    },
    {
     "name": "stderr",
     "output_type": "stream",
     "text": [
      " 40%|████      | 200/500 [01:01<01:24,  3.56it/s]"
     ]
    },
    {
     "name": "stdout",
     "output_type": "stream",
     "text": [
      "##################################################\n",
      "Epoch: 200 / 500\n",
      "Train loss: 0.005024828077293933\n",
      "Train r2 score: 0.7348708600794813\n",
      "Val loss: 0.005116739002987742\n",
      "Val r2 score: 0.7319978355624915\n",
      "##################################################\n",
      "\n"
     ]
    },
    {
     "name": "stderr",
     "output_type": "stream",
     "text": [
      " 42%|████▏     | 210/500 [01:04<01:25,  3.41it/s]"
     ]
    },
    {
     "name": "stdout",
     "output_type": "stream",
     "text": [
      "##################################################\n",
      "Epoch: 210 / 500\n",
      "Train loss: 0.004969415361993015\n",
      "Train r2 score: 0.735846824629868\n",
      "Val loss: 0.005113960970193148\n",
      "Val r2 score: 0.7319465319942268\n",
      "##################################################\n",
      "\n"
     ]
    },
    {
     "name": "stderr",
     "output_type": "stream",
     "text": [
      " 44%|████▍     | 220/500 [01:07<01:22,  3.41it/s]"
     ]
    },
    {
     "name": "stdout",
     "output_type": "stream",
     "text": [
      "##################################################\n",
      "Epoch: 220 / 500\n",
      "Train loss: 0.00505689287558198\n",
      "Train r2 score: 0.7422836287586553\n",
      "Val loss: 0.0051125469803810115\n",
      "Val r2 score: 0.7319787577073741\n",
      "##################################################\n",
      "\n"
     ]
    },
    {
     "name": "stderr",
     "output_type": "stream",
     "text": [
      " 46%|████▌     | 230/500 [01:10<01:17,  3.49it/s]"
     ]
    },
    {
     "name": "stdout",
     "output_type": "stream",
     "text": [
      "##################################################\n",
      "Epoch: 230 / 500\n",
      "Train loss: 0.004966073385439813\n",
      "Train r2 score: 0.7412847738656354\n",
      "Val loss: 0.0051111888978630305\n",
      "Val r2 score: 0.7320305351722302\n",
      "##################################################\n",
      "\n"
     ]
    },
    {
     "name": "stderr",
     "output_type": "stream",
     "text": [
      " 48%|████▊     | 240/500 [01:13<01:09,  3.74it/s]"
     ]
    },
    {
     "name": "stdout",
     "output_type": "stream",
     "text": [
      "##################################################\n",
      "Epoch: 240 / 500\n",
      "Train loss: 0.005012766639702022\n",
      "Train r2 score: 0.7510034513818513\n",
      "Val loss: 0.005109892869368196\n",
      "Val r2 score: 0.7320840180788166\n",
      "##################################################\n",
      "\n"
     ]
    },
    {
     "name": "stderr",
     "output_type": "stream",
     "text": [
      " 50%|█████     | 250/500 [01:16<01:12,  3.46it/s]"
     ]
    },
    {
     "name": "stdout",
     "output_type": "stream",
     "text": [
      "##################################################\n",
      "Epoch: 250 / 500\n",
      "Train loss: 0.005008130632340908\n",
      "Train r2 score: 0.7471203954328538\n",
      "Val loss: 0.005108470348641276\n",
      "Val r2 score: 0.7321745278074109\n",
      "##################################################\n",
      "\n"
     ]
    },
    {
     "name": "stderr",
     "output_type": "stream",
     "text": [
      " 52%|█████▏    | 260/500 [01:18<01:06,  3.60it/s]"
     ]
    },
    {
     "name": "stdout",
     "output_type": "stream",
     "text": [
      "##################################################\n",
      "Epoch: 260 / 500\n",
      "Train loss: 0.005004311604425311\n",
      "Train r2 score: 0.7442808486123141\n",
      "Val loss: 0.005107254642061889\n",
      "Val r2 score: 0.7322835513359803\n",
      "##################################################\n",
      "\n"
     ]
    },
    {
     "name": "stderr",
     "output_type": "stream",
     "text": [
      " 54%|█████▍    | 270/500 [01:21<01:02,  3.69it/s]"
     ]
    },
    {
     "name": "stdout",
     "output_type": "stream",
     "text": [
      "##################################################\n",
      "Epoch: 270 / 500\n",
      "Train loss: 0.005089563205838203\n",
      "Train r2 score: 0.725599414264311\n",
      "Val loss: 0.005105899693444371\n",
      "Val r2 score: 0.7323628843148831\n",
      "##################################################\n",
      "\n"
     ]
    },
    {
     "name": "stderr",
     "output_type": "stream",
     "text": [
      " 56%|█████▌    | 280/500 [01:24<01:00,  3.67it/s]"
     ]
    },
    {
     "name": "stdout",
     "output_type": "stream",
     "text": [
      "##################################################\n",
      "Epoch: 280 / 500\n",
      "Train loss: 0.005039048856124282\n",
      "Train r2 score: 0.7400263329410172\n",
      "Val loss: 0.005104681113734842\n",
      "Val r2 score: 0.7324815120200509\n",
      "##################################################\n",
      "\n"
     ]
    },
    {
     "name": "stderr",
     "output_type": "stream",
     "text": [
      " 58%|█████▊    | 290/500 [01:27<01:10,  2.98it/s]"
     ]
    },
    {
     "name": "stdout",
     "output_type": "stream",
     "text": [
      "##################################################\n",
      "Epoch: 290 / 500\n",
      "Train loss: 0.00499850207939744\n",
      "Train r2 score: 0.7423268106405198\n",
      "Val loss: 0.0051036308845505115\n",
      "Val r2 score: 0.7325183773859031\n",
      "##################################################\n",
      "\n"
     ]
    },
    {
     "name": "stderr",
     "output_type": "stream",
     "text": [
      " 60%|██████    | 300/500 [01:32<01:22,  2.43it/s]"
     ]
    },
    {
     "name": "stdout",
     "output_type": "stream",
     "text": [
      "##################################################\n",
      "Epoch: 300 / 500\n",
      "Train loss: 0.00502014777623117\n",
      "Train r2 score: 0.7401232909775319\n",
      "Val loss: 0.0051019284036010505\n",
      "Val r2 score: 0.7326063794624568\n",
      "##################################################\n",
      "\n"
     ]
    },
    {
     "name": "stderr",
     "output_type": "stream",
     "text": [
      " 62%|██████▏   | 310/500 [01:35<01:03,  3.00it/s]"
     ]
    },
    {
     "name": "stdout",
     "output_type": "stream",
     "text": [
      "##################################################\n",
      "Epoch: 310 / 500\n",
      "Train loss: 0.004988901689648629\n",
      "Train r2 score: 0.7449566981506568\n",
      "Val loss: 0.005101829008199274\n",
      "Val r2 score: 0.7325976564487275\n",
      "##################################################\n",
      "\n"
     ]
    },
    {
     "name": "stderr",
     "output_type": "stream",
     "text": [
      " 64%|██████▍   | 320/500 [01:38<00:53,  3.36it/s]"
     ]
    },
    {
     "name": "stdout",
     "output_type": "stream",
     "text": [
      "##################################################\n",
      "Epoch: 320 / 500\n",
      "Train loss: 0.0050453832698985936\n",
      "Train r2 score: 0.7391083852150361\n",
      "Val loss: 0.005101727233268321\n",
      "Val r2 score: 0.7326043647676274\n",
      "##################################################\n",
      "\n"
     ]
    },
    {
     "name": "stderr",
     "output_type": "stream",
     "text": [
      " 66%|██████▌   | 330/500 [01:42<00:58,  2.89it/s]"
     ]
    },
    {
     "name": "stdout",
     "output_type": "stream",
     "text": [
      "##################################################\n",
      "Epoch: 330 / 500\n",
      "Train loss: 0.004999142051674426\n",
      "Train r2 score: 0.7468928239591789\n",
      "Val loss: 0.005101572736166417\n",
      "Val r2 score: 0.7326170299332984\n",
      "##################################################\n",
      "\n"
     ]
    },
    {
     "name": "stderr",
     "output_type": "stream",
     "text": [
      " 68%|██████▊   | 340/500 [01:45<00:50,  3.15it/s]"
     ]
    },
    {
     "name": "stdout",
     "output_type": "stream",
     "text": [
      "##################################################\n",
      "Epoch: 340 / 500\n",
      "Train loss: 0.005078189191408455\n",
      "Train r2 score: 0.7427772192865654\n",
      "Val loss: 0.005101454295217991\n",
      "Val r2 score: 0.732620581970534\n",
      "##################################################\n",
      "\n"
     ]
    },
    {
     "name": "stderr",
     "output_type": "stream",
     "text": [
      " 70%|███████   | 350/500 [01:48<00:45,  3.28it/s]"
     ]
    },
    {
     "name": "stdout",
     "output_type": "stream",
     "text": [
      "##################################################\n",
      "Epoch: 350 / 500\n",
      "Train loss: 0.005051066316664219\n",
      "Train r2 score: 0.7427730110217874\n",
      "Val loss: 0.005101325297728181\n",
      "Val r2 score: 0.7326329161977282\n",
      "##################################################\n",
      "\n"
     ]
    },
    {
     "name": "stderr",
     "output_type": "stream",
     "text": [
      " 72%|███████▏  | 360/500 [01:52<00:49,  2.83it/s]"
     ]
    },
    {
     "name": "stdout",
     "output_type": "stream",
     "text": [
      "##################################################\n",
      "Epoch: 360 / 500\n",
      "Train loss: 0.005025590052828193\n",
      "Train r2 score: 0.7472694638185462\n",
      "Val loss: 0.0051012117601931094\n",
      "Val r2 score: 0.7326407099582427\n",
      "##################################################\n",
      "\n"
     ]
    },
    {
     "name": "stderr",
     "output_type": "stream",
     "text": [
      " 74%|███████▍  | 370/500 [01:55<00:39,  3.31it/s]"
     ]
    },
    {
     "name": "stdout",
     "output_type": "stream",
     "text": [
      "##################################################\n",
      "Epoch: 370 / 500\n",
      "Train loss: 0.0050555293262004855\n",
      "Train r2 score: 0.7389533248245109\n",
      "Val loss: 0.005101115605793893\n",
      "Val r2 score: 0.7326470639628191\n",
      "##################################################\n",
      "\n"
     ]
    },
    {
     "name": "stderr",
     "output_type": "stream",
     "text": [
      " 76%|███████▌  | 380/500 [01:58<00:34,  3.43it/s]"
     ]
    },
    {
     "name": "stdout",
     "output_type": "stream",
     "text": [
      "##################################################\n",
      "Epoch: 380 / 500\n",
      "Train loss: 0.005051313955336809\n",
      "Train r2 score: 0.7403973729497961\n",
      "Val loss: 0.005101031172089278\n",
      "Val r2 score: 0.7326522333714174\n",
      "##################################################\n",
      "\n"
     ]
    },
    {
     "name": "stderr",
     "output_type": "stream",
     "text": [
      " 78%|███████▊  | 390/500 [02:01<00:31,  3.47it/s]"
     ]
    },
    {
     "name": "stdout",
     "output_type": "stream",
     "text": [
      "##################################################\n",
      "Epoch: 390 / 500\n",
      "Train loss: 0.00495705857872963\n",
      "Train r2 score: 0.747832622455249\n",
      "Val loss: 0.005100904549472034\n",
      "Val r2 score: 0.7326534808153439\n",
      "##################################################\n",
      "\n"
     ]
    },
    {
     "name": "stderr",
     "output_type": "stream",
     "text": [
      " 80%|████████  | 400/500 [02:04<00:28,  3.54it/s]"
     ]
    },
    {
     "name": "stdout",
     "output_type": "stream",
     "text": [
      "##################################################\n",
      "Epoch: 400 / 500\n",
      "Train loss: 0.00503211144823581\n",
      "Train r2 score: 0.7406869962296945\n",
      "Val loss: 0.005100828623399139\n",
      "Val r2 score: 0.7326646913070737\n",
      "##################################################\n",
      "\n"
     ]
    },
    {
     "name": "stderr",
     "output_type": "stream",
     "text": [
      " 82%|████████▏ | 410/500 [02:07<00:28,  3.15it/s]"
     ]
    },
    {
     "name": "stdout",
     "output_type": "stream",
     "text": [
      "##################################################\n",
      "Epoch: 410 / 500\n",
      "Train loss: 0.0049635737901553515\n",
      "Train r2 score: 0.7511276723905825\n",
      "Val loss: 0.005100818518549204\n",
      "Val r2 score: 0.7326659567468211\n",
      "##################################################\n",
      "\n"
     ]
    },
    {
     "name": "stderr",
     "output_type": "stream",
     "text": [
      " 84%|████████▍ | 420/500 [02:10<00:25,  3.09it/s]"
     ]
    },
    {
     "name": "stdout",
     "output_type": "stream",
     "text": [
      "##################################################\n",
      "Epoch: 420 / 500\n",
      "Train loss: 0.00537192470394075\n",
      "Train r2 score: 0.7379876812463\n",
      "Val loss: 0.005100807314738632\n",
      "Val r2 score: 0.7326663259627634\n",
      "##################################################\n",
      "\n"
     ]
    },
    {
     "name": "stderr",
     "output_type": "stream",
     "text": [
      " 86%|████████▌ | 430/500 [02:13<00:20,  3.42it/s]"
     ]
    },
    {
     "name": "stdout",
     "output_type": "stream",
     "text": [
      "##################################################\n",
      "Epoch: 430 / 500\n",
      "Train loss: 0.005152708366513253\n",
      "Train r2 score: 0.7228666484767962\n",
      "Val loss: 0.005100792301818729\n",
      "Val r2 score: 0.7326666981388728\n",
      "##################################################\n",
      "\n"
     ]
    },
    {
     "name": "stderr",
     "output_type": "stream",
     "text": [
      " 88%|████████▊ | 440/500 [02:16<00:16,  3.72it/s]"
     ]
    },
    {
     "name": "stdout",
     "output_type": "stream",
     "text": [
      "##################################################\n",
      "Epoch: 440 / 500\n",
      "Train loss: 0.005035033794119954\n",
      "Train r2 score: 0.7219371113625023\n",
      "Val loss: 0.0051007821410894395\n",
      "Val r2 score: 0.7326658575827907\n",
      "##################################################\n",
      "\n"
     ]
    },
    {
     "name": "stderr",
     "output_type": "stream",
     "text": [
      " 90%|█████████ | 450/500 [02:19<00:13,  3.60it/s]"
     ]
    },
    {
     "name": "stdout",
     "output_type": "stream",
     "text": [
      "##################################################\n",
      "Epoch: 450 / 500\n",
      "Train loss: 0.004975297837518156\n",
      "Train r2 score: 0.6921215705253174\n",
      "Val loss: 0.00510076941922307\n",
      "Val r2 score: 0.7326656760024965\n",
      "##################################################\n",
      "\n"
     ]
    },
    {
     "name": "stderr",
     "output_type": "stream",
     "text": [
      " 92%|█████████▏| 460/500 [02:22<00:14,  2.85it/s]"
     ]
    },
    {
     "name": "stdout",
     "output_type": "stream",
     "text": [
      "##################################################\n",
      "Epoch: 460 / 500\n",
      "Train loss: 0.004961657747626305\n",
      "Train r2 score: 0.741363200360629\n",
      "Val loss: 0.005100760892964899\n",
      "Val r2 score: 0.7326675259106961\n",
      "##################################################\n",
      "\n"
     ]
    },
    {
     "name": "stderr",
     "output_type": "stream",
     "text": [
      " 94%|█████████▍| 470/500 [02:25<00:07,  3.78it/s]"
     ]
    },
    {
     "name": "stdout",
     "output_type": "stream",
     "text": [
      "##################################################\n",
      "Epoch: 470 / 500\n",
      "Train loss: 0.0050483179371804\n",
      "Train r2 score: 0.7325021041829539\n",
      "Val loss: 0.005100752227008343\n",
      "Val r2 score: 0.7326684150365331\n",
      "##################################################\n",
      "\n"
     ]
    },
    {
     "name": "stderr",
     "output_type": "stream",
     "text": [
      " 96%|█████████▌| 480/500 [02:31<00:09,  2.02it/s]"
     ]
    },
    {
     "name": "stdout",
     "output_type": "stream",
     "text": [
      "##################################################\n",
      "Epoch: 480 / 500\n",
      "Train loss: 0.005001091016456485\n",
      "Train r2 score: 0.7457941221928508\n",
      "Val loss: 0.005100739696063101\n",
      "Val r2 score: 0.7326698364085913\n",
      "##################################################\n",
      "\n"
     ]
    },
    {
     "name": "stderr",
     "output_type": "stream",
     "text": [
      " 98%|█████████▊| 490/500 [02:34<00:03,  3.24it/s]"
     ]
    },
    {
     "name": "stdout",
     "output_type": "stream",
     "text": [
      "##################################################\n",
      "Epoch: 490 / 500\n",
      "Train loss: 0.005045137102715671\n",
      "Train r2 score: 0.7391141004530465\n",
      "Val loss: 0.005100732375867664\n",
      "Val r2 score: 0.7326699507973848\n",
      "##################################################\n",
      "\n"
     ]
    },
    {
     "name": "stderr",
     "output_type": "stream",
     "text": [
      "100%|██████████| 500/500 [02:37<00:00,  3.18it/s]"
     ]
    },
    {
     "name": "stdout",
     "output_type": "stream",
     "text": [
      "##################################################\n",
      "Epoch: 500 / 500\n",
      "Train loss: 0.005044434051960707\n",
      "Train r2 score: 0.735304155859906\n",
      "Val loss: 0.00510071970988065\n",
      "Val r2 score: 0.7326724969061581\n",
      "##################################################\n",
      "\n"
     ]
    },
    {
     "name": "stderr",
     "output_type": "stream",
     "text": [
      "\n"
     ]
    }
   ],
   "source": [
    "epochs = 500\n",
    "\n",
    "tolerance = 1e-8\n",
    "n_convergence_steps = 5\n",
    "conv_counter = 0\n",
    "report_interval = 10\n",
    "\n",
    "train_loss_history = []\n",
    "val_loss_history = []\n",
    "train_metric_history = []\n",
    "val_metric_history = []\n",
    "\n",
    "for epoch in tqdm.tqdm(range(epochs)):\n",
    "\n",
    "    best_params = model.state_dict()\n",
    "    best_val_metric = 0.0\n",
    "\n",
    "    model.train()\n",
    "\n",
    "    train_mean_loss = []\n",
    "    train_mean_metric = []\n",
    "\n",
    "    for X, y in train_loader:\n",
    "        X = X.float()\n",
    "        y = y.float()\n",
    "        preds = model(X)\n",
    "        loss = loss_func(preds[:, 0], y)\n",
    "\n",
    "        optim.zero_grad()\n",
    "        loss.backward()\n",
    "        optim.step()\n",
    "\n",
    "        train_mean_loss.append(loss.item())\n",
    "        train_mean_metric.append(r2_score(y.numpy(), preds[:, 0].detach().numpy()))\n",
    "\n",
    "    train_mean_loss = np.mean(train_mean_loss)\n",
    "    train_mean_metric = np.mean(train_mean_metric)\n",
    "\n",
    "    model.eval()\n",
    "\n",
    "    val_mean_loss = []\n",
    "    val_mean_metric = []\n",
    "\n",
    "    for X, y in val_loader:\n",
    "        X = X.float()\n",
    "        y = y.float()\n",
    "        with torch.set_grad_enabled(False):\n",
    "            preds = model(X)\n",
    "            loss = loss_func(preds[:, 0], y)\n",
    "\n",
    "        val_mean_loss.append(loss.item())\n",
    "        val_mean_metric.append(r2_score(y.numpy(), preds[:, 0].numpy()))\n",
    "    \n",
    "    val_mean_loss = np.mean(val_mean_loss)\n",
    "    val_mean_metric = np.mean(val_mean_metric)\n",
    "\n",
    "    if epoch > 0:\n",
    "        if abs(train_loss_history[-1] - train_mean_loss) < tolerance:\n",
    "            if conv_counter > n_convergence_steps:\n",
    "                break\n",
    "            else:\n",
    "                conv_counter += 1\n",
    "        else:\n",
    "            conv_counter = 0\n",
    "\n",
    "    train_loss_history.append(train_mean_loss)\n",
    "    train_metric_history.append(train_mean_metric)\n",
    "    val_metric_history.append(val_mean_metric)\n",
    "    val_loss_history.append(val_mean_loss)\n",
    "\n",
    "    if (epoch + 1) % report_interval == 0:\n",
    "        print(\"#\" * 50)\n",
    "        print(f\"Epoch: {epoch + 1} / {epochs}\")\n",
    "        print(f\"Train loss: {train_loss_history[-1]}\")\n",
    "        print(f\"Train r2 score: {train_metric_history[-1]}\")\n",
    "        print(f\"Val loss: {val_loss_history[-1]}\")\n",
    "        print(f\"Val r2 score: {val_metric_history[-1]}\")\n",
    "        print(\"#\" * 50)\n",
    "        print()\n",
    "\n",
    "    if val_mean_metric > best_val_metric:\n",
    "        best_val_metric = val_mean_metric\n",
    "        best_params = model.state_dict()\n",
    "\n",
    "    scheduler.step()"
   ]
  },
  {
   "cell_type": "code",
   "execution_count": 27,
   "metadata": {},
   "outputs": [
    {
     "data": {
      "image/png": "[encoded data removed]",
      "text/plain": [
       "<Figure size 640x480 with 1 Axes>"
      ]
     },
     "metadata": {},
     "output_type": "display_data"
    }
   ],
   "source": [
    "plt.plot(train_loss_history[-50:])\n",
    "plt.title(\"train loss\")\n",
    "plt.xlabel(\"epoch\")\n",
    "plt.ylabel(\"mse\")\n",
    "plt.show()"
   ]
  },
  {
   "cell_type": "code",
   "execution_count": 26,
   "metadata": {},
   "outputs": [
    {
     "data": {
      "image/png": "[encoded data removed]",
      "text/plain": [
       "<Figure size 640x480 with 1 Axes>"
      ]
     },
     "metadata": {},
     "output_type": "display_data"
    }
   ],
   "source": [
    "plt.plot(val_loss_history[-50:])\n",
    "plt.title(\"val loss\")\n",
    "plt.xlabel(\"epoch\")\n",
    "plt.ylabel(\"mse\")\n",
    "plt.show()"
   ]
  },
  {
   "cell_type": "code",
   "execution_count": 25,
   "metadata": {},
   "outputs": [
    {
     "data": {
      "image/png": "[encoded data removed]",
      "text/plain": [
       "<Figure size 640x480 with 1 Axes>"
      ]
     },
     "metadata": {},
     "output_type": "display_data"
    }
   ],
   "source": [
    "plt.plot(train_metric_history[-50:])\n",
    "plt.title(\"train metric\")\n",
    "plt.xlabel(\"epoch\")\n",
    "plt.ylabel(\"r2\")\n",
    "plt.show()"
   ]
  },
  {
   "cell_type": "code",
   "execution_count": 24,
   "metadata": {},
   "outputs": [
    {
     "data": {
      "image/png": "[encoded data removed]",
      "text/plain": [
       "<Figure size 640x480 with 1 Axes>"
      ]
     },
     "metadata": {},
     "output_type": "display_data"
    }
   ],
   "source": [
    "plt.plot(val_metric_history[-50:])\n",
    "plt.title(\"val metric\")\n",
    "plt.xlabel(\"epoch\")\n",
    "plt.ylabel(\"r2\")\n",
    "plt.show()"
   ]
  }
 ],
 "metadata": {
  "kernelspec": {
   "display_name": ".venv",
   "language": "python",
   "name": "python3"
  },
  "language_info": {
   "codemirror_mode": {
    "name": "ipython",
    "version": 3
   },
   "file_extension": ".py",
   "mimetype": "text/x-python",
   "name": "python",
   "nbconvert_exporter": "python",
   "pygments_lexer": "ipython3",
   "version": "3.10.12"
  }
 },
 "nbformat": 4,
 "nbformat_minor": 2
}
