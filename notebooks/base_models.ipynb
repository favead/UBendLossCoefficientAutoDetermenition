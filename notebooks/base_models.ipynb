{
 "cells": [
  {
   "cell_type": "code",
   "execution_count": 65,
   "metadata": {},
   "outputs": [],
   "source": [
    "from typing import Union\n",
    "\n",
    "import numpy as np\n",
    "import pandas as pd\n",
    "from sklearn.linear_model import LinearRegression\n",
    "from sklearn.svm import SVR\n",
    "from sklearn.ensemble import GradientBoostingRegressor\n",
    "from sklearn.model_selection import train_test_split\n",
    "from sklearn.metrics import r2_score, mean_squared_error"
   ]
  },
  {
   "cell_type": "code",
   "execution_count": 66,
   "metadata": {},
   "outputs": [],
   "source": [
    "def fit_and_validate_model(\n",
    "    model: Union[LinearRegression, SVR, GradientBoostingRegressor],\n",
    "    X: np.ndarray,\n",
    "    y: np.ndarray,\n",
    ") -> Union[LinearRegression, SVR, GradientBoostingRegressor]:\n",
    "    X_train, X_val, y_train, y_val = train_test_split(\n",
    "        X, y, test_size=0.25, random_state=0\n",
    "    )\n",
    "    model = model.fit(X_train.values, y_train.values)\n",
    "    val_preds = model.predict(X_val.values)\n",
    "    print(f\"Validation R2 score: {r2_score(y_val, val_preds)}\")\n",
    "    print(f\"MSE: {mean_squared_error(y_val, val_preds)}\")\n",
    "    return model\n",
    "\n",
    "\n",
    "def get_test_score(\n",
    "    model: Union[LinearRegression, SVR, GradientBoostingRegressor],\n",
    "    X: np.ndarray,\n",
    "    y: np.ndarray,\n",
    ") -> None:\n",
    "    print(f\"Validation R2 score: {r2_score(y, model.predict(X))}\")\n",
    "    print(f\"MSE: {mean_squared_error(y, model.predict(X))}\")\n",
    "    return None"
   ]
  },
  {
   "cell_type": "code",
   "execution_count": 72,
   "metadata": {},
   "outputs": [
    {
     "name": "stdout",
     "output_type": "stream",
     "text": [
      "Validation R2 score: -19.385413433382357\n",
      "MSE: 15.779762375762305\n"
     ]
    },
    {
     "name": "stderr",
     "output_type": "stream",
     "text": [
      "/media/fave/2F0D54A5643C36A93/diploma/UBendLossCoefficientAutoDetermenition/.venv/lib/python3.10/site-packages/sklearn/utils/validation.py:1183: DataConversionWarning: A column-vector y was passed when a 1d array was expected. Please change the shape of y to (n_samples, ), for example using ravel().\n",
      "  y = column_or_1d(y, warn=True)\n"
     ]
    }
   ],
   "source": [
    "X = pd.read_csv(\"../data/processed/custom_features_train_X.csv\")\n",
    "y = pd.read_csv(\"../data/processed/train_y.csv\")\n",
    "svr_cf_sigmoid = fit_and_validate_model(SVR(kernel=\"sigmoid\"), X, y)"
   ]
  },
  {
   "cell_type": "code",
   "execution_count": 64,
   "metadata": {},
   "outputs": [
    {
     "name": "stdout",
     "output_type": "stream",
     "text": [
      "Validation R2 score: 0.7280755283112772\n",
      "MSE: 0.21048891460676158\n"
     ]
    }
   ],
   "source": [
    "X = pd.read_csv(\"../data/processed/train_X.csv\")\n",
    "y = pd.read_csv(\"../data/processed/train_y.csv\")\n",
    "lr = fit_and_validate_model(LinearRegression, X, y)"
   ]
  },
  {
   "cell_type": "code",
   "execution_count": 63,
   "metadata": {},
   "outputs": [
    {
     "name": "stdout",
     "output_type": "stream",
     "text": [
      "Validation R2 score: 0.7861549322933281\n",
      "MSE: 0.16553131800183454\n"
     ]
    }
   ],
   "source": [
    "X = pd.read_csv(\"../data/processed/custom_features_train_X.csv\")\n",
    "y = pd.read_csv(\"../data/processed/train_y.csv\")\n",
    "lr_cf = fit_and_validate_model(LinearRegression, X, y)"
   ]
  },
  {
   "cell_type": "code",
   "execution_count": 62,
   "metadata": {},
   "outputs": [
    {
     "name": "stdout",
     "output_type": "stream",
     "text": [
      "Validation R2 score: 0.8722415280536399\n",
      "MSE: 0.09889415956130367\n"
     ]
    },
    {
     "name": "stderr",
     "output_type": "stream",
     "text": [
      "/media/fave/2F0D54A5643C36A93/diploma/UBendLossCoefficientAutoDetermenition/.venv/lib/python3.10/site-packages/sklearn/ensemble/_gb.py:424: DataConversionWarning: A column-vector y was passed when a 1d array was expected. Please change the shape of y to (n_samples, ), for example using ravel().\n",
      "  y = column_or_1d(y, warn=True)\n"
     ]
    }
   ],
   "source": [
    "X = pd.read_csv(\"../data/processed/train_X.csv\")\n",
    "y = pd.read_csv(\"../data/processed/train_y.csv\")\n",
    "gbr = fit_and_validate_model(GradientBoostingRegressor, X, y)"
   ]
  },
  {
   "cell_type": "code",
   "execution_count": 60,
   "metadata": {},
   "outputs": [
    {
     "name": "stdout",
     "output_type": "stream",
     "text": [
      "Validation R2 score: 0.8999449517629033\n",
      "MSE: 0.0774497358533512\n"
     ]
    },
    {
     "name": "stderr",
     "output_type": "stream",
     "text": [
      "/media/fave/2F0D54A5643C36A93/diploma/UBendLossCoefficientAutoDetermenition/.venv/lib/python3.10/site-packages/sklearn/utils/validation.py:1183: DataConversionWarning: A column-vector y was passed when a 1d array was expected. Please change the shape of y to (n_samples, ), for example using ravel().\n",
      "  y = column_or_1d(y, warn=True)\n"
     ]
    }
   ],
   "source": [
    "X = pd.read_csv(\"../data/processed/train_X.csv\")\n",
    "y = pd.read_csv(\"../data/processed/train_y.csv\")\n",
    "svr_base = fit_and_validate_model(SVR, X, y)"
   ]
  },
  {
   "cell_type": "code",
   "execution_count": 57,
   "metadata": {},
   "outputs": [
    {
     "name": "stdout",
     "output_type": "stream",
     "text": [
      "Validation R2 score: 0.9207939455965473\n",
      "MSE: 0.06131112921955631\n"
     ]
    },
    {
     "name": "stderr",
     "output_type": "stream",
     "text": [
      "/media/fave/2F0D54A5643C36A93/diploma/UBendLossCoefficientAutoDetermenition/.venv/lib/python3.10/site-packages/sklearn/utils/validation.py:1183: DataConversionWarning: A column-vector y was passed when a 1d array was expected. Please change the shape of y to (n_samples, ), for example using ravel().\n",
      "  y = column_or_1d(y, warn=True)\n"
     ]
    }
   ],
   "source": [
    "X = pd.read_csv(\"../data/processed/custom_features_train_X.csv\")\n",
    "y = pd.read_csv(\"../data/processed/train_y.csv\")\n",
    "svr_cf = fit_and_validate_model(SVR, X, y)"
   ]
  },
  {
   "cell_type": "code",
   "execution_count": 67,
   "metadata": {},
   "outputs": [
    {
     "name": "stdout",
     "output_type": "stream",
     "text": [
      "Validation R2 score: 0.9336881116598841\n",
      "MSE: 0.05133012602931031\n"
     ]
    },
    {
     "name": "stderr",
     "output_type": "stream",
     "text": [
      "/media/fave/2F0D54A5643C36A93/diploma/UBendLossCoefficientAutoDetermenition/.venv/lib/python3.10/site-packages/sklearn/utils/validation.py:1183: DataConversionWarning: A column-vector y was passed when a 1d array was expected. Please change the shape of y to (n_samples, ), for example using ravel().\n",
      "  y = column_or_1d(y, warn=True)\n"
     ]
    }
   ],
   "source": [
    "X = pd.read_csv(\"../data/processed/custom_features_train_X.csv\")\n",
    "y = pd.read_csv(\"../data/processed/train_y.csv\")\n",
    "svr_cf = fit_and_validate_model(SVR(kernel='poly'), X, y)"
   ]
  }
 ],
 "metadata": {
  "kernelspec": {
   "display_name": ".venv",
   "language": "python",
   "name": "python3"
  },
  "language_info": {
   "codemirror_mode": {
    "name": "ipython",
    "version": 3
   },
   "file_extension": ".py",
   "mimetype": "text/x-python",
   "name": "python",
   "nbconvert_exporter": "python",
   "pygments_lexer": "ipython3",
   "version": "3.10.12"
  }
 },
 "nbformat": 4,
 "nbformat_minor": 2
}
