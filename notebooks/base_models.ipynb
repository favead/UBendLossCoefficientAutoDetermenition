{
 "cells": [
  {
   "cell_type": "code",
   "execution_count": 1,
   "metadata": {},
   "outputs": [],
   "source": [
    "from typing import Union\n",
    "\n",
    "from catboost import CatBoostRegressor\n",
    "import matplotlib.pyplot as plt\n",
    "import numpy as np\n",
    "import pandas as pd\n",
    "from sklearn.gaussian_process import GaussianProcessRegressor\n",
    "from sklearn.gaussian_process.kernels import RationalQuadratic, ExpSineSquared\n",
    "from sklearn.linear_model import SGDRegressor, LinearRegression, BayesianRidge\n",
    "from sklearn.gaussian_process.kernels import RBF, ConstantKernel as C ,WhiteKernel as Wht,Matern as matk\n",
    "from sklearn.svm import SVR\n",
    "from sklearn.ensemble import GradientBoostingRegressor, RandomForestRegressor\n",
    "from sklearn.model_selection import train_test_split\n",
    "from sklearn.metrics import (\n",
    "    r2_score,\n",
    "    mean_squared_error,\n",
    "    mean_absolute_percentage_error,\n",
    "    mean_absolute_error,\n",
    ")"
   ]
  },
  {
   "cell_type": "code",
   "execution_count": 2,
   "metadata": {},
   "outputs": [],
   "source": [
    "def fit_and_validate_model(\n",
    "    model: Union[SGDRegressor, SVR, GradientBoostingRegressor],\n",
    "    train_X: np.ndarray,\n",
    "    train_y: np.ndarray,\n",
    "    val_X: np.ndarray,\n",
    "    val_y: np.ndarray,\n",
    ") -> Union[SGDRegressor, SVR, GradientBoostingRegressor]:\n",
    "    model = model.fit(train_X, train_y)\n",
    "    val_preds = model.predict(val_X)\n",
    "    r2 = r2_score(val_y, val_preds)\n",
    "    mape = mean_absolute_percentage_error(val_y, val_preds)\n",
    "    mse = mean_squared_error(val_y, val_preds)\n",
    "    mae = mean_absolute_error(val_y, val_preds)\n",
    "    print(f\"Validation R2 score: {r2}\")\n",
    "    print(f\"MAPE: {mape}\")\n",
    "    print(f\"MAE: {mae}\")\n",
    "    print(f\"MSE: {mse}\")\n",
    "    return model, {\"r2\": r2, \"mape\": mape, \"mae\": mae, \"mse\": mse}\n",
    "\n",
    "\n",
    "def get_test_score(\n",
    "    model: Union[SGDRegressor, SVR, GradientBoostingRegressor],\n",
    "    X: np.ndarray,\n",
    "    y: np.ndarray,\n",
    ") -> None:\n",
    "    print(f\"Validation R2 score: {r2_score(y, model.predict(X))}\")\n",
    "    print(f\"MSE: {mean_squared_error(y, model.predict(X))}\")\n",
    "    return None"
   ]
  },
  {
   "cell_type": "code",
   "execution_count": 3,
   "metadata": {},
   "outputs": [],
   "source": [
    "def gpregression(Xtrain,Ytrain,Nfeature):    \n",
    "    cmean=[1.0]*Nfeature\n",
    "    cbound=[[1e-6, 1e6]]*Nfeature\n",
    "    kernel = C(1.0, (1e-6,1e6)) * matk(cmean,cbound,1.2) + Wht(1.0, (1e-6, 1e6))  # Matern kernel\n",
    "    gp = GaussianProcessRegressor(kernel=kernel, n_restarts_optimizer=5, normalize_y=False)\n",
    "    # gp.fit(Xtrain, Ytrain)\n",
    "    return gp"
   ]
  },
  {
   "cell_type": "code",
   "execution_count": 4,
   "metadata": {},
   "outputs": [],
   "source": [
    "train_data = pd.read_csv(\"../data/processed/norm_train.csv\")\n",
    "val_data = pd.read_csv(\"../data/processed/norm_val.csv\")\n",
    "train_X, train_y = train_data.drop(\"pt_loss\", axis=1), train_data[\"pt_loss\"]\n",
    "val_X, val_y = val_data.drop(\"pt_loss\", axis=1), val_data[\"pt_loss\"]"
   ]
  },
  {
   "cell_type": "code",
   "execution_count": 5,
   "metadata": {},
   "outputs": [
    {
     "name": "stdout",
     "output_type": "stream",
     "text": [
      "Validation R2 score: 0.7741230885668111\n",
      "MAPE: 0.31020720454566797\n",
      "MAE: 0.044423450610857604\n",
      "MSE: 0.003628718020325516\n"
     ]
    }
   ],
   "source": [
    "blr, blr_metrics = fit_and_validate_model(\n",
    "    BayesianRidge(n_iter=1000), train_X.values, train_y.values, val_X.values, val_y.values\n",
    ")"
   ]
  },
  {
   "cell_type": "code",
   "execution_count": 6,
   "metadata": {},
   "outputs": [
    {
     "name": "stdout",
     "output_type": "stream",
     "text": [
      "Validation R2 score: 0.9123924893695775\n",
      "MAPE: 0.09277451004201702\n",
      "MAE: 0.016790456110215405\n",
      "MSE: 0.0014074167674924321\n"
     ]
    }
   ],
   "source": [
    "gp, gp_metrics = fit_and_validate_model(\n",
    "    gpregression(None, None, 7), train_X.values, train_y.values, val_X.values, val_y.values\n",
    ")"
   ]
  },
  {
   "cell_type": "code",
   "execution_count": 7,
   "metadata": {},
   "outputs": [
    {
     "name": "stdout",
     "output_type": "stream",
     "text": [
      "Validation R2 score: 0.7739414602773229\n",
      "MAPE: 0.3107417043389817\n",
      "MAE: 0.044469729794018684\n",
      "MSE: 0.0036316358831689766\n"
     ]
    }
   ],
   "source": [
    "lin_reg, lin_reg_metrics = fit_and_validate_model(\n",
    "    LinearRegression(), train_X.values, train_y.values, val_X.values, val_y.values\n",
    ")"
   ]
  },
  {
   "cell_type": "code",
   "execution_count": 9,
   "metadata": {},
   "outputs": [
    {
     "name": "stdout",
     "output_type": "stream",
     "text": [
      "Validation R2 score: 0.7318971444684432\n",
      "MAPE: 0.4486470897465031\n",
      "MAE: 0.053965566795555184\n",
      "MSE: 0.004307078828886189\n"
     ]
    }
   ],
   "source": [
    "svm_rbf_kernel, svm_rbf_kernel_metrics = fit_and_validate_model(\n",
    "    SVR(kernel=\"poly\"), train_X.values, train_y.values, val_X.values, val_y.values\n",
    ")"
   ]
  },
  {
   "cell_type": "code",
   "execution_count": 10,
   "metadata": {},
   "outputs": [
    {
     "name": "stdout",
     "output_type": "stream",
     "text": [
      "Validation R2 score: 0.862858826984539\n",
      "MAPE: 0.09417975569216008\n",
      "MAE: 0.01887692758071621\n",
      "MSE: 0.002203176246267115\n"
     ]
    }
   ],
   "source": [
    "gpr, gpr_merics = fit_and_validate_model(\n",
    "    GaussianProcessRegressor(kernel=1. * RationalQuadratic(3, 3)), train_X.values, train_y.values, val_X.values, val_y.values\n",
    ")"
   ]
  },
  {
   "cell_type": "code",
   "execution_count": 11,
   "metadata": {},
   "outputs": [
    {
     "name": "stdout",
     "output_type": "stream",
     "text": [
      "Validation R2 score: 0.8436748067237285\n",
      "MAPE: 0.07447777532055032\n",
      "MAE: 0.01475547846153845\n",
      "MSE: 0.00251136799362631\n"
     ]
    }
   ],
   "source": [
    "rand_forest, rand_forest_metrics = fit_and_validate_model(\n",
    "    RandomForestRegressor(),\n",
    "    train_X.values,\n",
    "    train_y.values,\n",
    "    val_X.values,\n",
    "    val_y.values,\n",
    ")"
   ]
  },
  {
   "cell_type": "code",
   "execution_count": 12,
   "metadata": {},
   "outputs": [
    {
     "name": "stdout",
     "output_type": "stream",
     "text": [
      "Validation R2 score: 0.927501466464522\n",
      "MAPE: 0.07980287878392887\n",
      "MAE: 0.014880527890241406\n",
      "MSE: 0.0011646906867025084\n"
     ]
    }
   ],
   "source": [
    "grad_boost_reg, grad_boost_reg_metrics = fit_and_validate_model(\n",
    "    GradientBoostingRegressor(init=gpregression(None, None, 7)),\n",
    "    train_X.values,\n",
    "    train_y.values,\n",
    "    val_X.values,\n",
    "    val_y.values,\n",
    ")"
   ]
  },
  {
   "cell_type": "markdown",
   "metadata": {},
   "source": [
    "Придумаем визуализацию"
   ]
  },
  {
   "cell_type": "code",
   "execution_count": 14,
   "metadata": {},
   "outputs": [],
   "source": [
    "def visualize_residuals(\n",
    "    model: Union[LinearRegression, SVR, GradientBoostingRegressor],\n",
    "    val_X: np.ndarray,\n",
    "    val_y: np.ndarray,\n",
    ") -> None:\n",
    "    val_preds = model.predict(val_X)\n",
    "    residuals = val_y - val_preds\n",
    "    plt.figure(figsize=(5, 5))\n",
    "    plt.title(\"Residuals\")\n",
    "    plt.hist(residuals, bins=len(val_y) // 10)\n",
    "    plt.show()\n",
    "    return None\n",
    "\n",
    "\n",
    "def visualize_pairplot(\n",
    "    model: Union[LinearRegression, SVR, GradientBoostingRegressor],\n",
    "    val_X: np.ndarray,\n",
    "    val_y: np.ndarray,\n",
    ") -> None:\n",
    "    val_preds = model.predict(val_X)\n",
    "    plt.figure(figsize=(5, 5))\n",
    "    plt.title(\"Pair plot\")\n",
    "    plt.scatter(val_preds, val_y)\n",
    "    plt.ylabel(\"Predictions\")\n",
    "    plt.xlabel(\"Ground Truth's\")\n",
    "    plt.show()\n",
    "    return None\n",
    "\n",
    "\n",
    "def visualize_metrics(\n",
    "    scores: list[float], labels: list[str], metric_name: str\n",
    ") -> None:\n",
    "    plt.figure(figsize=(7, 4))\n",
    "    plt.title(f\"{metric_name} values\")\n",
    "    plt.bar_label(\n",
    "        plt.bar(labels, scores),\n",
    "        [round(score, 4) for score in scores],\n",
    "        label_type=\"center\",\n",
    "        c='white'\n",
    "    )\n",
    "    plt.xlabel(\"Model\")\n",
    "    plt.ylabel(\"Metric value\")\n",
    "    plt.savefig(f\"../artifacts/{metric_name}.png\")\n",
    "    return None"
   ]
  },
  {
   "cell_type": "code",
   "execution_count": 15,
   "metadata": {},
   "outputs": [
    {
     "data": {
      "image/png": "[encoded data removed]",
      "text/plain": [
       "<Figure size 500x500 with 1 Axes>"
      ]
     },
     "metadata": {},
     "output_type": "display_data"
    },
    {
     "data": {
      "image/png": "[encoded data removed]",
      "text/plain": [
       "<Figure size 500x500 with 1 Axes>"
      ]
     },
     "metadata": {},
     "output_type": "display_data"
    }
   ],
   "source": [
    "visualize_residuals(lin_reg, val_X.values, val_y.values)\n",
    "visualize_pairplot(lin_reg, val_X.values, val_y.values)"
   ]
  },
  {
   "cell_type": "code",
   "execution_count": 16,
   "metadata": {},
   "outputs": [
    {
     "data": {
      "image/png": "[encoded data removed]",
      "text/plain": [
       "<Figure size 500x500 with 1 Axes>"
      ]
     },
     "metadata": {},
     "output_type": "display_data"
    },
    {
     "data": {
      "image/png": "[encoded data removed]",
      "text/plain": [
       "<Figure size 500x500 with 1 Axes>"
      ]
     },
     "metadata": {},
     "output_type": "display_data"
    }
   ],
   "source": [
    "visualize_residuals(grad_boost_reg, val_X.values, val_y.values)\n",
    "visualize_pairplot(grad_boost_reg, val_X.values, val_y.values)"
   ]
  },
  {
   "cell_type": "code",
   "execution_count": 17,
   "metadata": {},
   "outputs": [
    {
     "data": {
      "image/png": "[encoded data removed]",
      "text/plain": [
       "<Figure size 500x500 with 1 Axes>"
      ]
     },
     "metadata": {},
     "output_type": "display_data"
    },
    {
     "data": {
      "image/png": "[encoded data removed]",
      "text/plain": [
       "<Figure size 500x500 with 1 Axes>"
      ]
     },
     "metadata": {},
     "output_type": "display_data"
    }
   ],
   "source": [
    "visualize_residuals(rand_forest, val_X.values, val_y.values)\n",
    "visualize_pairplot(rand_forest, val_X.values, val_y.values)"
   ]
  },
  {
   "cell_type": "code",
   "execution_count": 18,
   "metadata": {},
   "outputs": [
    {
     "data": {
      "image/png": "[encoded data removed]",
      "text/plain": [
       "<Figure size 700x400 with 1 Axes>"
      ]
     },
     "metadata": {},
     "output_type": "display_data"
    },
    {
     "data": {
      "image/png": "[encoded data removed]",
      "text/plain": [
       "<Figure size 700x400 with 1 Axes>"
      ]
     },
     "metadata": {},
     "output_type": "display_data"
    },
    {
     "data": {
      "image/png": "[encoded data removed]",
      "text/plain": [
       "<Figure size 700x400 with 1 Axes>"
      ]
     },
     "metadata": {},
     "output_type": "display_data"
    },
    {
     "data": {
      "image/png": "[encoded data removed]",
      "text/plain": [
       "<Figure size 700x400 with 1 Axes>"
      ]
     },
     "metadata": {},
     "output_type": "display_data"
    }
   ],
   "source": [
    "for key in lin_reg_metrics.keys():\n",
    "    visualize_metrics(\n",
    "        [metric_dict.get(key) for metric_dict in [lin_reg_metrics, rand_forest_metrics, grad_boost_reg_metrics, gp_metrics]],\n",
    "        [\"Linear Regression\", \"Random Forest\", \"Gradient Boosting\", \"Gaussian Process\"],\n",
    "        key\n",
    "    )"
   ]
  },
  {
   "cell_type": "code",
   "execution_count": 4,
   "metadata": {},
   "outputs": [
    {
     "name": "stdout",
     "output_type": "stream",
     "text": [
      "Learning rate set to 0.5\n",
      "0:\tlearn: 0.0928969\ttotal: 47.4ms\tremaining: 427ms\n",
      "1:\tlearn: 0.0723956\ttotal: 48ms\tremaining: 192ms\n",
      "2:\tlearn: 0.0639733\ttotal: 48.4ms\tremaining: 113ms\n",
      "3:\tlearn: 0.0599604\ttotal: 48.8ms\tremaining: 73.2ms\n",
      "4:\tlearn: 0.0560777\ttotal: 49.6ms\tremaining: 49.6ms\n",
      "5:\tlearn: 0.0539470\ttotal: 50.3ms\tremaining: 33.5ms\n",
      "6:\tlearn: 0.0534690\ttotal: 52.9ms\tremaining: 22.7ms\n",
      "7:\tlearn: 0.0510600\ttotal: 53.3ms\tremaining: 13.3ms\n",
      "8:\tlearn: 0.0505619\ttotal: 53.7ms\tremaining: 5.97ms\n",
      "9:\tlearn: 0.0481382\ttotal: 54.1ms\tremaining: 0us\n",
      "Validation R2 score: 0.9222456440998104\n",
      "MAPE: 0.11262603561121114\n",
      "MAE: 0.018420813430738245\n",
      "MSE: 0.0012491255995293576\n"
     ]
    }
   ],
   "source": [
    "cbr, cbr_metrics = fit_and_validate_model(\n",
    "    CatBoostRegressor(iterations=10, od_type='IncToDec'), train_X.values, train_y.values, val_X.values, val_y.values\n",
    ")"
   ]
  },
  {
   "cell_type": "code",
   "execution_count": 5,
   "metadata": {},
   "outputs": [
    {
     "data": {
      "text/html": [
       "        <script type=\"text/javascript\">\n",
       "        window.PlotlyConfig = {MathJaxConfig: 'local'};\n",
       "        if (window.MathJax && window.MathJax.Hub && window.MathJax.Hub.Config) {window.MathJax.Hub.Config({SVG: {font: \"STIX-Web\"}});}\n",
       "        if (typeof require !== 'undefined') {\n",
       "        require.undef(\"plotly\");\n",
       "        requirejs.config({\n",
       "            paths: {\n",
       "                'plotly': ['https://cdn.plot.ly/plotly-2.29.1.min']\n",
       "            }\n",
       "        });\n",
       "        require(['plotly'], function(Plotly) {\n",
       "            window._Plotly = Plotly;\n",
       "        });\n",
       "        }\n",
       "        </script>\n",
       "        "
      ]
     },
     "metadata": {},
     "output_type": "display_data"
    },
    {
     "data": {
      "application/vnd.plotly.v1+json": {
       "config": {
        "linkText": "Export to plot.ly",
        "plotlyServerURL": "https://plot.ly",
        "showLink": false
       },
       "data": [
        {
         "mode": "lines+markers",
         "name": "Mean target",
         "type": "scatter",
         "xaxis": "x",
         "y": [
          0.13604910671710968,
          0.13769285380840302,
          0.3202603757381439
         ],
         "yaxis": "y"
        },
        {
         "line": {
          "dash": "dash"
         },
         "mode": "lines+markers",
         "name": "Mean prediction on each segment of feature values",
         "type": "scatter",
         "xaxis": "x",
         "y": [
          0.13664305210113525,
          0.14104917645454407,
          0.3224990665912628
         ],
         "yaxis": "y"
        },
        {
         "marker": {
          "color": "rgba(30, 150, 30, 0.4)"
         },
         "name": "Objects per bin",
         "type": "bar",
         "width": 0.8,
         "xaxis": "x",
         "y": [
          68,
          67,
          60
         ],
         "yaxis": "y2"
        },
        {
         "line": {
          "dash": "dashdot"
         },
         "mode": "lines+markers",
         "name": "Mean prediction with substituted feature",
         "type": "scatter",
         "xaxis": "x",
         "y": [
          0.14028179530583748,
          0.14524527607962529,
          0.310590204963228
         ],
         "yaxis": "y"
        }
       ],
       "layout": {
        "annotations": [
         {
          "align": "left",
          "showarrow": false,
          "text": "Statistics for feature",
          "x": 0,
          "xref": "paper",
          "y": 1.05,
          "yref": "paper"
         }
        ],
        "legend": {
         "bgcolor": "rgba(0,0,0,0)",
         "x": 1.07
        },
        "template": {
         "data": {
          "bar": [
           {
            "error_x": {
             "color": "#2a3f5f"
            },
            "error_y": {
             "color": "#2a3f5f"
            },
            "marker": {
             "line": {
              "color": "#E5ECF6",
              "width": 0.5
             },
             "pattern": {
              "fillmode": "overlay",
              "size": 10,
              "solidity": 0.2
             }
            },
            "type": "bar"
           }
          ],
          "barpolar": [
           {
            "marker": {
             "line": {
              "color": "#E5ECF6",
              "width": 0.5
             },
             "pattern": {
              "fillmode": "overlay",
              "size": 10,
              "solidity": 0.2
             }
            },
            "type": "barpolar"
           }
          ],
          "carpet": [
           {
            "aaxis": {
             "endlinecolor": "#2a3f5f",
             "gridcolor": "white",
             "linecolor": "white",
             "minorgridcolor": "white",
             "startlinecolor": "#2a3f5f"
            },
            "baxis": {
             "endlinecolor": "#2a3f5f",
             "gridcolor": "white",
             "linecolor": "white",
             "minorgridcolor": "white",
             "startlinecolor": "#2a3f5f"
            },
            "type": "carpet"
           }
          ],
          "choropleth": [
           {
            "colorbar": {
             "outlinewidth": 0,
             "ticks": ""
            },
            "type": "choropleth"
           }
          ],
          "contour": [
           {
            "colorbar": {
             "outlinewidth": 0,
             "ticks": ""
            },
            "colorscale": [
             [
              0,
              "#0d0887"
             ],
             [
              0.1111111111111111,
              "#46039f"
             ],
             [
              0.2222222222222222,
              "#7201a8"
             ],
             [
              0.3333333333333333,
              "#9c179e"
             ],
             [
              0.4444444444444444,
              "#bd3786"
             ],
             [
              0.5555555555555556,
              "#d8576b"
             ],
             [
              0.6666666666666666,
              "#ed7953"
             ],
             [
              0.7777777777777778,
              "#fb9f3a"
             ],
             [
              0.8888888888888888,
              "#fdca26"
             ],
             [
              1,
              "#f0f921"
             ]
            ],
            "type": "contour"
           }
          ],
          "contourcarpet": [
           {
            "colorbar": {
             "outlinewidth": 0,
             "ticks": ""
            },
            "type": "contourcarpet"
           }
          ],
          "heatmap": [
           {
            "colorbar": {
             "outlinewidth": 0,
             "ticks": ""
            },
            "colorscale": [
             [
              0,
              "#0d0887"
             ],
             [
              0.1111111111111111,
              "#46039f"
             ],
             [
              0.2222222222222222,
              "#7201a8"
             ],
             [
              0.3333333333333333,
              "#9c179e"
             ],
             [
              0.4444444444444444,
              "#bd3786"
             ],
             [
              0.5555555555555556,
              "#d8576b"
             ],
             [
              0.6666666666666666,
              "#ed7953"
             ],
             [
              0.7777777777777778,
              "#fb9f3a"
             ],
             [
              0.8888888888888888,
              "#fdca26"
             ],
             [
              1,
              "#f0f921"
             ]
            ],
            "type": "heatmap"
           }
          ],
          "heatmapgl": [
           {
            "colorbar": {
             "outlinewidth": 0,
             "ticks": ""
            },
            "colorscale": [
             [
              0,
              "#0d0887"
             ],
             [
              0.1111111111111111,
              "#46039f"
             ],
             [
              0.2222222222222222,
              "#7201a8"
             ],
             [
              0.3333333333333333,
              "#9c179e"
             ],
             [
              0.4444444444444444,
              "#bd3786"
             ],
             [
              0.5555555555555556,
              "#d8576b"
             ],
             [
              0.6666666666666666,
              "#ed7953"
             ],
             [
              0.7777777777777778,
              "#fb9f3a"
             ],
             [
              0.8888888888888888,
              "#fdca26"
             ],
             [
              1,
              "#f0f921"
             ]
            ],
            "type": "heatmapgl"
           }
          ],
          "histogram": [
           {
            "marker": {
             "pattern": {
              "fillmode": "overlay",
              "size": 10,
              "solidity": 0.2
             }
            },
            "type": "histogram"
           }
          ],
          "histogram2d": [
           {
            "colorbar": {
             "outlinewidth": 0,
             "ticks": ""
            },
            "colorscale": [
             [
              0,
              "#0d0887"
             ],
             [
              0.1111111111111111,
              "#46039f"
             ],
             [
              0.2222222222222222,
              "#7201a8"
             ],
             [
              0.3333333333333333,
              "#9c179e"
             ],
             [
              0.4444444444444444,
              "#bd3786"
             ],
             [
              0.5555555555555556,
              "#d8576b"
             ],
             [
              0.6666666666666666,
              "#ed7953"
             ],
             [
              0.7777777777777778,
              "#fb9f3a"
             ],
             [
              0.8888888888888888,
              "#fdca26"
             ],
             [
              1,
              "#f0f921"
             ]
            ],
            "type": "histogram2d"
           }
          ],
          "histogram2dcontour": [
           {
            "colorbar": {
             "outlinewidth": 0,
             "ticks": ""
            },
            "colorscale": [
             [
              0,
              "#0d0887"
             ],
             [
              0.1111111111111111,
              "#46039f"
             ],
             [
              0.2222222222222222,
              "#7201a8"
             ],
             [
              0.3333333333333333,
              "#9c179e"
             ],
             [
              0.4444444444444444,
              "#bd3786"
             ],
             [
              0.5555555555555556,
              "#d8576b"
             ],
             [
              0.6666666666666666,
              "#ed7953"
             ],
             [
              0.7777777777777778,
              "#fb9f3a"
             ],
             [
              0.8888888888888888,
              "#fdca26"
             ],
             [
              1,
              "#f0f921"
             ]
            ],
            "type": "histogram2dcontour"
           }
          ],
          "mesh3d": [
           {
            "colorbar": {
             "outlinewidth": 0,
             "ticks": ""
            },
            "type": "mesh3d"
           }
          ],
          "parcoords": [
           {
            "line": {
             "colorbar": {
              "outlinewidth": 0,
              "ticks": ""
             }
            },
            "type": "parcoords"
           }
          ],
          "pie": [
           {
            "automargin": true,
            "type": "pie"
           }
          ],
          "scatter": [
           {
            "fillpattern": {
             "fillmode": "overlay",
             "size": 10,
             "solidity": 0.2
            },
            "type": "scatter"
           }
          ],
          "scatter3d": [
           {
            "line": {
             "colorbar": {
              "outlinewidth": 0,
              "ticks": ""
             }
            },
            "marker": {
             "colorbar": {
              "outlinewidth": 0,
              "ticks": ""
             }
            },
            "type": "scatter3d"
           }
          ],
          "scattercarpet": [
           {
            "marker": {
             "colorbar": {
              "outlinewidth": 0,
              "ticks": ""
             }
            },
            "type": "scattercarpet"
           }
          ],
          "scattergeo": [
           {
            "marker": {
             "colorbar": {
              "outlinewidth": 0,
              "ticks": ""
             }
            },
            "type": "scattergeo"
           }
          ],
          "scattergl": [
           {
            "marker": {
             "colorbar": {
              "outlinewidth": 0,
              "ticks": ""
             }
            },
            "type": "scattergl"
           }
          ],
          "scattermapbox": [
           {
            "marker": {
             "colorbar": {
              "outlinewidth": 0,
              "ticks": ""
             }
            },
            "type": "scattermapbox"
           }
          ],
          "scatterpolar": [
           {
            "marker": {
             "colorbar": {
              "outlinewidth": 0,
              "ticks": ""
             }
            },
            "type": "scatterpolar"
           }
          ],
          "scatterpolargl": [
           {
            "marker": {
             "colorbar": {
              "outlinewidth": 0,
              "ticks": ""
             }
            },
            "type": "scatterpolargl"
           }
          ],
          "scatterternary": [
           {
            "marker": {
             "colorbar": {
              "outlinewidth": 0,
              "ticks": ""
             }
            },
            "type": "scatterternary"
           }
          ],
          "surface": [
           {
            "colorbar": {
             "outlinewidth": 0,
             "ticks": ""
            },
            "colorscale": [
             [
              0,
              "#0d0887"
             ],
             [
              0.1111111111111111,
              "#46039f"
             ],
             [
              0.2222222222222222,
              "#7201a8"
             ],
             [
              0.3333333333333333,
              "#9c179e"
             ],
             [
              0.4444444444444444,
              "#bd3786"
             ],
             [
              0.5555555555555556,
              "#d8576b"
             ],
             [
              0.6666666666666666,
              "#ed7953"
             ],
             [
              0.7777777777777778,
              "#fb9f3a"
             ],
             [
              0.8888888888888888,
              "#fdca26"
             ],
             [
              1,
              "#f0f921"
             ]
            ],
            "type": "surface"
           }
          ],
          "table": [
           {
            "cells": {
             "fill": {
              "color": "#EBF0F8"
             },
             "line": {
              "color": "white"
             }
            },
            "header": {
             "fill": {
              "color": "#C8D4E3"
             },
             "line": {
              "color": "white"
             }
            },
            "type": "table"
           }
          ]
         },
         "layout": {
          "annotationdefaults": {
           "arrowcolor": "#2a3f5f",
           "arrowhead": 0,
           "arrowwidth": 1
          },
          "autotypenumbers": "strict",
          "coloraxis": {
           "colorbar": {
            "outlinewidth": 0,
            "ticks": ""
           }
          },
          "colorscale": {
           "diverging": [
            [
             0,
             "#8e0152"
            ],
            [
             0.1,
             "#c51b7d"
            ],
            [
             0.2,
             "#de77ae"
            ],
            [
             0.3,
             "#f1b6da"
            ],
            [
             0.4,
             "#fde0ef"
            ],
            [
             0.5,
             "#f7f7f7"
            ],
            [
             0.6,
             "#e6f5d0"
            ],
            [
             0.7,
             "#b8e186"
            ],
            [
             0.8,
             "#7fbc41"
            ],
            [
             0.9,
             "#4d9221"
            ],
            [
             1,
             "#276419"
            ]
           ],
           "sequential": [
            [
             0,
             "#0d0887"
            ],
            [
             0.1111111111111111,
             "#46039f"
            ],
            [
             0.2222222222222222,
             "#7201a8"
            ],
            [
             0.3333333333333333,
             "#9c179e"
            ],
            [
             0.4444444444444444,
             "#bd3786"
            ],
            [
             0.5555555555555556,
             "#d8576b"
            ],
            [
             0.6666666666666666,
             "#ed7953"
            ],
            [
             0.7777777777777778,
             "#fb9f3a"
            ],
            [
             0.8888888888888888,
             "#fdca26"
            ],
            [
             1,
             "#f0f921"
            ]
           ],
           "sequentialminus": [
            [
             0,
             "#0d0887"
            ],
            [
             0.1111111111111111,
             "#46039f"
            ],
            [
             0.2222222222222222,
             "#7201a8"
            ],
            [
             0.3333333333333333,
             "#9c179e"
            ],
            [
             0.4444444444444444,
             "#bd3786"
            ],
            [
             0.5555555555555556,
             "#d8576b"
            ],
            [
             0.6666666666666666,
             "#ed7953"
            ],
            [
             0.7777777777777778,
             "#fb9f3a"
            ],
            [
             0.8888888888888888,
             "#fdca26"
            ],
            [
             1,
             "#f0f921"
            ]
           ]
          },
          "colorway": [
           "#636efa",
           "#EF553B",
           "#00cc96",
           "#ab63fa",
           "#FFA15A",
           "#19d3f3",
           "#FF6692",
           "#B6E880",
           "#FF97FF",
           "#FECB52"
          ],
          "font": {
           "color": "#2a3f5f"
          },
          "geo": {
           "bgcolor": "white",
           "lakecolor": "white",
           "landcolor": "#E5ECF6",
           "showlakes": true,
           "showland": true,
           "subunitcolor": "white"
          },
          "hoverlabel": {
           "align": "left"
          },
          "hovermode": "closest",
          "mapbox": {
           "style": "light"
          },
          "paper_bgcolor": "white",
          "plot_bgcolor": "#E5ECF6",
          "polar": {
           "angularaxis": {
            "gridcolor": "white",
            "linecolor": "white",
            "ticks": ""
           },
           "bgcolor": "#E5ECF6",
           "radialaxis": {
            "gridcolor": "white",
            "linecolor": "white",
            "ticks": ""
           }
          },
          "scene": {
           "xaxis": {
            "backgroundcolor": "#E5ECF6",
            "gridcolor": "white",
            "gridwidth": 2,
            "linecolor": "white",
            "showbackground": true,
            "ticks": "",
            "zerolinecolor": "white"
           },
           "yaxis": {
            "backgroundcolor": "#E5ECF6",
            "gridcolor": "white",
            "gridwidth": 2,
            "linecolor": "white",
            "showbackground": true,
            "ticks": "",
            "zerolinecolor": "white"
           },
           "zaxis": {
            "backgroundcolor": "#E5ECF6",
            "gridcolor": "white",
            "gridwidth": 2,
            "linecolor": "white",
            "showbackground": true,
            "ticks": "",
            "zerolinecolor": "white"
           }
          },
          "shapedefaults": {
           "line": {
            "color": "#2a3f5f"
           }
          },
          "ternary": {
           "aaxis": {
            "gridcolor": "white",
            "linecolor": "white",
            "ticks": ""
           },
           "baxis": {
            "gridcolor": "white",
            "linecolor": "white",
            "ticks": ""
           },
           "bgcolor": "#E5ECF6",
           "caxis": {
            "gridcolor": "white",
            "linecolor": "white",
            "ticks": ""
           }
          },
          "title": {
           "x": 0.05
          },
          "xaxis": {
           "automargin": true,
           "gridcolor": "white",
           "linecolor": "white",
           "ticks": "",
           "title": {
            "standoff": 15
           },
           "zerolinecolor": "white",
           "zerolinewidth": 2
          },
          "yaxis": {
           "automargin": true,
           "gridcolor": "white",
           "linecolor": "white",
           "ticks": "",
           "title": {
            "standoff": 15
           },
           "zerolinecolor": "white",
           "zerolinewidth": 2
          }
         }
        },
        "updatemenus": [
         {
          "buttons": [
           {
            "args": [
             {
              "y": [
               [
                0.13604910671710968,
                0.13769285380840302,
                0.3202603757381439
               ],
               [
                0.13664305210113525,
                0.14104917645454407,
                0.3224990665912628
               ],
               [
                68,
                67,
                60
               ],
               [
                0.14028179530583748,
                0.14524527607962529,
                0.310590204963228
               ]
              ]
             },
             {
              "xaxis": {
               "showticklabels": false,
               "tickmode": "array",
               "ticktext": [
                "(-inf, 0.0125]",
                "(0.0125, 0.0600]",
                "(0.0600, +inf)"
               ],
               "tickvals": [
                0,
                1,
                2
               ],
               "title": {
                "text": "Bins"
               }
              }
             }
            ],
            "label": "0",
            "method": "update"
           },
           {
            "args": [
             {
              "y": [
               [
                0.21195852756500244,
                0.21101561188697815,
                0.15233680605888367
               ],
               [
                0.21494226157665253,
                0.20644830167293549,
                0.1605893224477768
               ],
               [
                69,
                66,
                60
               ],
               [
                0.1927420288582077,
                0.19821333775530237,
                0.19584152640333488
               ]
              ]
             },
             {
              "xaxis": {
               "showticklabels": false,
               "tickmode": "array",
               "ticktext": [
                "(-inf, 1.1250]",
                "(1.1250, 1.3750]",
                "(1.3750, +inf)"
               ],
               "tickvals": [
                0,
                1,
                2
               ],
               "title": {
                "text": "Bins"
               }
              }
             }
            ],
            "label": "1",
            "method": "update"
           },
           {
            "args": [
             {
              "y": [
               [
                0.12157163769006729,
                0.16681897640228271,
                0.2730868458747864
               ],
               [
                0.12154198437929153,
                0.1684548556804657,
                0.2771141529083252
               ],
               [
                55,
                68,
                72
               ],
               [
                0.13040336362567656,
                0.18338605119790782,
                0.25434002884917634
               ]
              ]
             },
             {
              "xaxis": {
               "showticklabels": false,
               "tickmode": "array",
               "ticktext": [
                "(-inf, 1.7000]",
                "(1.7000, 3.7500]",
                "(3.7500, +inf)"
               ],
               "tickvals": [
                0,
                1,
                2
               ],
               "title": {
                "text": "Bins"
               }
              }
             }
            ],
            "label": "2",
            "method": "update"
           },
           {
            "args": [
             {
              "y": [
               [
                0.1700148582458496,
                0.17198984324932098,
                0.2446790188550949
               ],
               [
                0.17191730439662933,
                0.1844121515750885,
                0.2349417507648468
               ],
               [
                68,
                68,
                59
               ],
               [
                0.18278270194430385,
                0.1851611549941003,
                0.22292600707542023
               ]
              ]
             },
             {
              "xaxis": {
               "showticklabels": false,
               "tickmode": "array",
               "ticktext": [
                "(-inf, -0.2500]",
                "(-0.2500, 0.2500]",
                "(0.2500, +inf)"
               ],
               "tickvals": [
                0,
                1,
                2
               ],
               "title": {
                "text": "Bins"
               }
              }
             }
            ],
            "label": "4",
            "method": "update"
           },
           {
            "args": [
             {
              "y": [
               [
                0.3194514811038971,
                0.20372794568538666,
                0.17888259887695312,
                0.1699145883321762,
                0.16966129839420319,
                0.14710074663162231
               ],
               [
                0.3060321807861328,
                0.20475651323795319,
                0.18098512291908264,
                0.17662413418293,
                0.18001295626163483,
                0.1501895636320114
               ],
               [
                28,
                30,
                31,
                35,
                31,
                40
               ],
               [
                0.29713620519872624,
                0.21236921265175368,
                0.1834148917422509,
                0.17021852940192758,
                0.1707784053176186,
                0.15871909917309282
               ]
              ]
             },
             {
              "xaxis": {
               "showticklabels": false,
               "tickmode": "array",
               "ticktext": [
                "(-inf, 15.0000]",
                "(15.0000, 25.0000]",
                "(25.0000, 35.0000]",
                "(35.0000, 45.0000]",
                "(45.0000, 55.0000]",
                "(55.0000, +inf)"
               ],
               "tickvals": [
                0,
                1,
                2,
                3,
                4,
                5
               ],
               "title": {
                "text": "Bins"
               }
              }
             }
            ],
            "label": "5",
            "method": "update"
           },
           {
            "args": [
             {
              "y": [
               [
                0.2131773978471756,
                0.1714870035648346
               ],
               [
                0.20995289087295532,
                0.1793200969696045
               ],
               [
                102,
                93
               ],
               [
                0.2076746330576345,
                0.18217245942517665
               ]
              ]
             },
             {
              "xaxis": {
               "showticklabels": false,
               "tickmode": "array",
               "ticktext": [
                "(-inf, 300000.0000]",
                "(300000.0000, +inf)"
               ],
               "tickvals": [
                0,
                1
               ],
               "title": {
                "text": "Bins"
               }
              }
             }
            ],
            "label": "6",
            "method": "update"
           }
          ],
          "direction": "down",
          "pad": {
           "r": 10,
           "t": 10
          },
          "showactive": true,
          "x": 0.25,
          "xanchor": "left",
          "y": 1.09,
          "yanchor": "top"
         }
        ],
        "xaxis": {
         "showticklabels": false,
         "tickmode": "array",
         "ticktext": [
          "(-inf, 0.0125]",
          "(0.0125, 0.0600]",
          "(0.0600, +inf)"
         ],
         "tickvals": [
          0,
          1,
          2
         ],
         "title": {
          "text": "Bins"
         }
        },
        "yaxis": {
         "overlaying": "y2",
         "side": "left",
         "title": {
          "text": "Prediction and target"
         }
        },
        "yaxis2": {
         "position": 1,
         "side": "right",
         "title": {
          "text": "Objects per bin"
         }
        }
       }
      },
      "text/html": [
       "<div>                            <div id=\"7e5d6af5-3b43-4640-ae0c-56b6f63b238d\" class=\"plotly-graph-div\" style=\"height:525px; width:100%;\"></div>            <script type=\"text/javascript\">                require([\"plotly\"], function(Plotly) {                    window.PLOTLYENV=window.PLOTLYENV || {};                                    if (document.getElementById(\"7e5d6af5-3b43-4640-ae0c-56b6f63b238d\")) {                    Plotly.newPlot(                        \"7e5d6af5-3b43-4640-ae0c-56b6f63b238d\",                        [{\"mode\":\"lines+markers\",\"name\":\"Mean target\",\"xaxis\":\"x\",\"y\":[0.13604910671710968,0.13769285380840302,0.3202603757381439],\"yaxis\":\"y\",\"type\":\"scatter\"},{\"line\":{\"dash\":\"dash\"},\"mode\":\"lines+markers\",\"name\":\"Mean prediction on each segment of feature values\",\"xaxis\":\"x\",\"y\":[0.13664305210113525,0.14104917645454407,0.3224990665912628],\"yaxis\":\"y\",\"type\":\"scatter\"},{\"marker\":{\"color\":\"rgba(30, 150, 30, 0.4)\"},\"name\":\"Objects per bin\",\"width\":0.8,\"xaxis\":\"x\",\"y\":[68,67,60],\"yaxis\":\"y2\",\"type\":\"bar\"},{\"line\":{\"dash\":\"dashdot\"},\"mode\":\"lines+markers\",\"name\":\"Mean prediction with substituted feature\",\"xaxis\":\"x\",\"y\":[0.14028179530583748,0.14524527607962529,0.310590204963228],\"yaxis\":\"y\",\"type\":\"scatter\"}],                        {\"annotations\":[{\"align\":\"left\",\"showarrow\":false,\"text\":\"Statistics for feature\",\"x\":0,\"xref\":\"paper\",\"y\":1.05,\"yref\":\"paper\"}],\"legend\":{\"bgcolor\":\"rgba(0,0,0,0)\",\"x\":1.07},\"template\":{\"data\":{\"barpolar\":[{\"marker\":{\"line\":{\"color\":\"#E5ECF6\",\"width\":0.5},\"pattern\":{\"fillmode\":\"overlay\",\"size\":10,\"solidity\":0.2}},\"type\":\"barpolar\"}],\"bar\":[{\"error_x\":{\"color\":\"#2a3f5f\"},\"error_y\":{\"color\":\"#2a3f5f\"},\"marker\":{\"line\":{\"color\":\"#E5ECF6\",\"width\":0.5},\"pattern\":{\"fillmode\":\"overlay\",\"size\":10,\"solidity\":0.2}},\"type\":\"bar\"}],\"carpet\":[{\"aaxis\":{\"endlinecolor\":\"#2a3f5f\",\"gridcolor\":\"white\",\"linecolor\":\"white\",\"minorgridcolor\":\"white\",\"startlinecolor\":\"#2a3f5f\"},\"baxis\":{\"endlinecolor\":\"#2a3f5f\",\"gridcolor\":\"white\",\"linecolor\":\"white\",\"minorgridcolor\":\"white\",\"startlinecolor\":\"#2a3f5f\"},\"type\":\"carpet\"}],\"choropleth\":[{\"colorbar\":{\"outlinewidth\":0,\"ticks\":\"\"},\"type\":\"choropleth\"}],\"contourcarpet\":[{\"colorbar\":{\"outlinewidth\":0,\"ticks\":\"\"},\"type\":\"contourcarpet\"}],\"contour\":[{\"colorbar\":{\"outlinewidth\":0,\"ticks\":\"\"},\"colorscale\":[[0.0,\"#0d0887\"],[0.1111111111111111,\"#46039f\"],[0.2222222222222222,\"#7201a8\"],[0.3333333333333333,\"#9c179e\"],[0.4444444444444444,\"#bd3786\"],[0.5555555555555556,\"#d8576b\"],[0.6666666666666666,\"#ed7953\"],[0.7777777777777778,\"#fb9f3a\"],[0.8888888888888888,\"#fdca26\"],[1.0,\"#f0f921\"]],\"type\":\"contour\"}],\"heatmapgl\":[{\"colorbar\":{\"outlinewidth\":0,\"ticks\":\"\"},\"colorscale\":[[0.0,\"#0d0887\"],[0.1111111111111111,\"#46039f\"],[0.2222222222222222,\"#7201a8\"],[0.3333333333333333,\"#9c179e\"],[0.4444444444444444,\"#bd3786\"],[0.5555555555555556,\"#d8576b\"],[0.6666666666666666,\"#ed7953\"],[0.7777777777777778,\"#fb9f3a\"],[0.8888888888888888,\"#fdca26\"],[1.0,\"#f0f921\"]],\"type\":\"heatmapgl\"}],\"heatmap\":[{\"colorbar\":{\"outlinewidth\":0,\"ticks\":\"\"},\"colorscale\":[[0.0,\"#0d0887\"],[0.1111111111111111,\"#46039f\"],[0.2222222222222222,\"#7201a8\"],[0.3333333333333333,\"#9c179e\"],[0.4444444444444444,\"#bd3786\"],[0.5555555555555556,\"#d8576b\"],[0.6666666666666666,\"#ed7953\"],[0.7777777777777778,\"#fb9f3a\"],[0.8888888888888888,\"#fdca26\"],[1.0,\"#f0f921\"]],\"type\":\"heatmap\"}],\"histogram2dcontour\":[{\"colorbar\":{\"outlinewidth\":0,\"ticks\":\"\"},\"colorscale\":[[0.0,\"#0d0887\"],[0.1111111111111111,\"#46039f\"],[0.2222222222222222,\"#7201a8\"],[0.3333333333333333,\"#9c179e\"],[0.4444444444444444,\"#bd3786\"],[0.5555555555555556,\"#d8576b\"],[0.6666666666666666,\"#ed7953\"],[0.7777777777777778,\"#fb9f3a\"],[0.8888888888888888,\"#fdca26\"],[1.0,\"#f0f921\"]],\"type\":\"histogram2dcontour\"}],\"histogram2d\":[{\"colorbar\":{\"outlinewidth\":0,\"ticks\":\"\"},\"colorscale\":[[0.0,\"#0d0887\"],[0.1111111111111111,\"#46039f\"],[0.2222222222222222,\"#7201a8\"],[0.3333333333333333,\"#9c179e\"],[0.4444444444444444,\"#bd3786\"],[0.5555555555555556,\"#d8576b\"],[0.6666666666666666,\"#ed7953\"],[0.7777777777777778,\"#fb9f3a\"],[0.8888888888888888,\"#fdca26\"],[1.0,\"#f0f921\"]],\"type\":\"histogram2d\"}],\"histogram\":[{\"marker\":{\"pattern\":{\"fillmode\":\"overlay\",\"size\":10,\"solidity\":0.2}},\"type\":\"histogram\"}],\"mesh3d\":[{\"colorbar\":{\"outlinewidth\":0,\"ticks\":\"\"},\"type\":\"mesh3d\"}],\"parcoords\":[{\"line\":{\"colorbar\":{\"outlinewidth\":0,\"ticks\":\"\"}},\"type\":\"parcoords\"}],\"pie\":[{\"automargin\":true,\"type\":\"pie\"}],\"scatter3d\":[{\"line\":{\"colorbar\":{\"outlinewidth\":0,\"ticks\":\"\"}},\"marker\":{\"colorbar\":{\"outlinewidth\":0,\"ticks\":\"\"}},\"type\":\"scatter3d\"}],\"scattercarpet\":[{\"marker\":{\"colorbar\":{\"outlinewidth\":0,\"ticks\":\"\"}},\"type\":\"scattercarpet\"}],\"scattergeo\":[{\"marker\":{\"colorbar\":{\"outlinewidth\":0,\"ticks\":\"\"}},\"type\":\"scattergeo\"}],\"scattergl\":[{\"marker\":{\"colorbar\":{\"outlinewidth\":0,\"ticks\":\"\"}},\"type\":\"scattergl\"}],\"scattermapbox\":[{\"marker\":{\"colorbar\":{\"outlinewidth\":0,\"ticks\":\"\"}},\"type\":\"scattermapbox\"}],\"scatterpolargl\":[{\"marker\":{\"colorbar\":{\"outlinewidth\":0,\"ticks\":\"\"}},\"type\":\"scatterpolargl\"}],\"scatterpolar\":[{\"marker\":{\"colorbar\":{\"outlinewidth\":0,\"ticks\":\"\"}},\"type\":\"scatterpolar\"}],\"scatter\":[{\"fillpattern\":{\"fillmode\":\"overlay\",\"size\":10,\"solidity\":0.2},\"type\":\"scatter\"}],\"scatterternary\":[{\"marker\":{\"colorbar\":{\"outlinewidth\":0,\"ticks\":\"\"}},\"type\":\"scatterternary\"}],\"surface\":[{\"colorbar\":{\"outlinewidth\":0,\"ticks\":\"\"},\"colorscale\":[[0.0,\"#0d0887\"],[0.1111111111111111,\"#46039f\"],[0.2222222222222222,\"#7201a8\"],[0.3333333333333333,\"#9c179e\"],[0.4444444444444444,\"#bd3786\"],[0.5555555555555556,\"#d8576b\"],[0.6666666666666666,\"#ed7953\"],[0.7777777777777778,\"#fb9f3a\"],[0.8888888888888888,\"#fdca26\"],[1.0,\"#f0f921\"]],\"type\":\"surface\"}],\"table\":[{\"cells\":{\"fill\":{\"color\":\"#EBF0F8\"},\"line\":{\"color\":\"white\"}},\"header\":{\"fill\":{\"color\":\"#C8D4E3\"},\"line\":{\"color\":\"white\"}},\"type\":\"table\"}]},\"layout\":{\"annotationdefaults\":{\"arrowcolor\":\"#2a3f5f\",\"arrowhead\":0,\"arrowwidth\":1},\"autotypenumbers\":\"strict\",\"coloraxis\":{\"colorbar\":{\"outlinewidth\":0,\"ticks\":\"\"}},\"colorscale\":{\"diverging\":[[0,\"#8e0152\"],[0.1,\"#c51b7d\"],[0.2,\"#de77ae\"],[0.3,\"#f1b6da\"],[0.4,\"#fde0ef\"],[0.5,\"#f7f7f7\"],[0.6,\"#e6f5d0\"],[0.7,\"#b8e186\"],[0.8,\"#7fbc41\"],[0.9,\"#4d9221\"],[1,\"#276419\"]],\"sequential\":[[0.0,\"#0d0887\"],[0.1111111111111111,\"#46039f\"],[0.2222222222222222,\"#7201a8\"],[0.3333333333333333,\"#9c179e\"],[0.4444444444444444,\"#bd3786\"],[0.5555555555555556,\"#d8576b\"],[0.6666666666666666,\"#ed7953\"],[0.7777777777777778,\"#fb9f3a\"],[0.8888888888888888,\"#fdca26\"],[1.0,\"#f0f921\"]],\"sequentialminus\":[[0.0,\"#0d0887\"],[0.1111111111111111,\"#46039f\"],[0.2222222222222222,\"#7201a8\"],[0.3333333333333333,\"#9c179e\"],[0.4444444444444444,\"#bd3786\"],[0.5555555555555556,\"#d8576b\"],[0.6666666666666666,\"#ed7953\"],[0.7777777777777778,\"#fb9f3a\"],[0.8888888888888888,\"#fdca26\"],[1.0,\"#f0f921\"]]},\"colorway\":[\"#636efa\",\"#EF553B\",\"#00cc96\",\"#ab63fa\",\"#FFA15A\",\"#19d3f3\",\"#FF6692\",\"#B6E880\",\"#FF97FF\",\"#FECB52\"],\"font\":{\"color\":\"#2a3f5f\"},\"geo\":{\"bgcolor\":\"white\",\"lakecolor\":\"white\",\"landcolor\":\"#E5ECF6\",\"showlakes\":true,\"showland\":true,\"subunitcolor\":\"white\"},\"hoverlabel\":{\"align\":\"left\"},\"hovermode\":\"closest\",\"mapbox\":{\"style\":\"light\"},\"paper_bgcolor\":\"white\",\"plot_bgcolor\":\"#E5ECF6\",\"polar\":{\"angularaxis\":{\"gridcolor\":\"white\",\"linecolor\":\"white\",\"ticks\":\"\"},\"bgcolor\":\"#E5ECF6\",\"radialaxis\":{\"gridcolor\":\"white\",\"linecolor\":\"white\",\"ticks\":\"\"}},\"scene\":{\"xaxis\":{\"backgroundcolor\":\"#E5ECF6\",\"gridcolor\":\"white\",\"gridwidth\":2,\"linecolor\":\"white\",\"showbackground\":true,\"ticks\":\"\",\"zerolinecolor\":\"white\"},\"yaxis\":{\"backgroundcolor\":\"#E5ECF6\",\"gridcolor\":\"white\",\"gridwidth\":2,\"linecolor\":\"white\",\"showbackground\":true,\"ticks\":\"\",\"zerolinecolor\":\"white\"},\"zaxis\":{\"backgroundcolor\":\"#E5ECF6\",\"gridcolor\":\"white\",\"gridwidth\":2,\"linecolor\":\"white\",\"showbackground\":true,\"ticks\":\"\",\"zerolinecolor\":\"white\"}},\"shapedefaults\":{\"line\":{\"color\":\"#2a3f5f\"}},\"ternary\":{\"aaxis\":{\"gridcolor\":\"white\",\"linecolor\":\"white\",\"ticks\":\"\"},\"baxis\":{\"gridcolor\":\"white\",\"linecolor\":\"white\",\"ticks\":\"\"},\"bgcolor\":\"#E5ECF6\",\"caxis\":{\"gridcolor\":\"white\",\"linecolor\":\"white\",\"ticks\":\"\"}},\"title\":{\"x\":0.05},\"xaxis\":{\"automargin\":true,\"gridcolor\":\"white\",\"linecolor\":\"white\",\"ticks\":\"\",\"title\":{\"standoff\":15},\"zerolinecolor\":\"white\",\"zerolinewidth\":2},\"yaxis\":{\"automargin\":true,\"gridcolor\":\"white\",\"linecolor\":\"white\",\"ticks\":\"\",\"title\":{\"standoff\":15},\"zerolinecolor\":\"white\",\"zerolinewidth\":2}}},\"updatemenus\":[{\"buttons\":[{\"args\":[{\"y\":[[0.13604910671710968,0.13769285380840302,0.3202603757381439],[0.13664305210113525,0.14104917645454407,0.3224990665912628],[68,67,60],[0.14028179530583748,0.14524527607962529,0.310590204963228]]},{\"xaxis\":{\"showticklabels\":false,\"tickmode\":\"array\",\"ticktext\":[\"(-inf, 0.0125]\",\"(0.0125, 0.0600]\",\"(0.0600, +inf)\"],\"tickvals\":[0,1,2],\"title\":{\"text\":\"Bins\"}}}],\"label\":\"0\",\"method\":\"update\"},{\"args\":[{\"y\":[[0.21195852756500244,0.21101561188697815,0.15233680605888367],[0.21494226157665253,0.20644830167293549,0.1605893224477768],[69,66,60],[0.1927420288582077,0.19821333775530237,0.19584152640333488]]},{\"xaxis\":{\"showticklabels\":false,\"tickmode\":\"array\",\"ticktext\":[\"(-inf, 1.1250]\",\"(1.1250, 1.3750]\",\"(1.3750, +inf)\"],\"tickvals\":[0,1,2],\"title\":{\"text\":\"Bins\"}}}],\"label\":\"1\",\"method\":\"update\"},{\"args\":[{\"y\":[[0.12157163769006729,0.16681897640228271,0.2730868458747864],[0.12154198437929153,0.1684548556804657,0.2771141529083252],[55,68,72],[0.13040336362567656,0.18338605119790782,0.25434002884917634]]},{\"xaxis\":{\"showticklabels\":false,\"tickmode\":\"array\",\"ticktext\":[\"(-inf, 1.7000]\",\"(1.7000, 3.7500]\",\"(3.7500, +inf)\"],\"tickvals\":[0,1,2],\"title\":{\"text\":\"Bins\"}}}],\"label\":\"2\",\"method\":\"update\"},{\"args\":[{\"y\":[[0.1700148582458496,0.17198984324932098,0.2446790188550949],[0.17191730439662933,0.1844121515750885,0.2349417507648468],[68,68,59],[0.18278270194430385,0.1851611549941003,0.22292600707542023]]},{\"xaxis\":{\"showticklabels\":false,\"tickmode\":\"array\",\"ticktext\":[\"(-inf, -0.2500]\",\"(-0.2500, 0.2500]\",\"(0.2500, +inf)\"],\"tickvals\":[0,1,2],\"title\":{\"text\":\"Bins\"}}}],\"label\":\"4\",\"method\":\"update\"},{\"args\":[{\"y\":[[0.3194514811038971,0.20372794568538666,0.17888259887695312,0.1699145883321762,0.16966129839420319,0.14710074663162231],[0.3060321807861328,0.20475651323795319,0.18098512291908264,0.17662413418293,0.18001295626163483,0.1501895636320114],[28,30,31,35,31,40],[0.29713620519872624,0.21236921265175368,0.1834148917422509,0.17021852940192758,0.1707784053176186,0.15871909917309282]]},{\"xaxis\":{\"showticklabels\":false,\"tickmode\":\"array\",\"ticktext\":[\"(-inf, 15.0000]\",\"(15.0000, 25.0000]\",\"(25.0000, 35.0000]\",\"(35.0000, 45.0000]\",\"(45.0000, 55.0000]\",\"(55.0000, +inf)\"],\"tickvals\":[0,1,2,3,4,5],\"title\":{\"text\":\"Bins\"}}}],\"label\":\"5\",\"method\":\"update\"},{\"args\":[{\"y\":[[0.2131773978471756,0.1714870035648346],[0.20995289087295532,0.1793200969696045],[102,93],[0.2076746330576345,0.18217245942517665]]},{\"xaxis\":{\"showticklabels\":false,\"tickmode\":\"array\",\"ticktext\":[\"(-inf, 300000.0000]\",\"(300000.0000, +inf)\"],\"tickvals\":[0,1],\"title\":{\"text\":\"Bins\"}}}],\"label\":\"6\",\"method\":\"update\"}],\"direction\":\"down\",\"pad\":{\"r\":10,\"t\":10},\"showactive\":true,\"x\":0.25,\"xanchor\":\"left\",\"y\":1.09,\"yanchor\":\"top\"}],\"xaxis\":{\"showticklabels\":false,\"tickmode\":\"array\",\"ticktext\":[\"(-inf, 0.0125]\",\"(0.0125, 0.0600]\",\"(0.0600, +inf)\"],\"tickvals\":[0,1,2],\"title\":{\"text\":\"Bins\"}},\"yaxis\":{\"overlaying\":\"y2\",\"side\":\"left\",\"title\":{\"text\":\"Prediction and target\"}},\"yaxis2\":{\"position\":1.0,\"side\":\"right\",\"title\":{\"text\":\"Objects per bin\"}}},                        {\"responsive\": true}                    ).then(function(){\n",
       "                            \n",
       "var gd = document.getElementById('7e5d6af5-3b43-4640-ae0c-56b6f63b238d');\n",
       "var x = new MutationObserver(function (mutations, observer) {{\n",
       "        var display = window.getComputedStyle(gd).display;\n",
       "        if (!display || display === 'none') {{\n",
       "            console.log([gd, 'removed!']);\n",
       "            Plotly.purge(gd);\n",
       "            observer.disconnect();\n",
       "        }}\n",
       "}});\n",
       "\n",
       "// Listen for the removal of the full notebook cells\n",
       "var notebookContainer = gd.closest('#notebook-container');\n",
       "if (notebookContainer) {{\n",
       "    x.observe(notebookContainer, {childList: true});\n",
       "}}\n",
       "\n",
       "// Listen for the clearing of the current output cell\n",
       "var outputEl = gd.closest('.output');\n",
       "if (outputEl) {{\n",
       "    x.observe(outputEl, {childList: true});\n",
       "}}\n",
       "\n",
       "                        })                };                });            </script>        </div>"
      ]
     },
     "metadata": {},
     "output_type": "display_data"
    },
    {
     "data": {
      "text/plain": [
       "{'0': {'borders': array([0.0125, 0.06  ], dtype=float32),\n",
       "  'binarized_feature': array([0, 1, 0, 2, 2, 2, 1, 1, 0, 1, 0, 0, 1, 2, 1, 1, 0, 2, 0, 2, 0, 0,\n",
       "         1, 0, 1, 2, 1, 2, 1, 2, 1, 0, 1, 1, 0, 1, 0, 1, 1, 1, 0, 1, 1, 1,\n",
       "         1, 0, 0, 1, 2, 0, 0, 2, 0, 0, 0, 0, 1, 0, 1, 2, 2, 2, 0, 2, 2, 1,\n",
       "         0, 0, 2, 2, 0, 2, 2, 1, 1, 1, 1, 0, 0, 2, 2, 1, 2, 0, 0, 2, 2, 0,\n",
       "         0, 2, 0, 2, 2, 2, 0, 0, 2, 1, 2, 2, 2, 0, 1, 1, 2, 1, 0, 0, 1, 0,\n",
       "         2, 0, 1, 1, 1, 1, 2, 1, 2, 1, 2, 0, 2, 2, 1, 2, 0, 2, 0, 0, 1, 1,\n",
       "         2, 0, 1, 0, 1, 2, 1, 1, 1, 2, 0, 1, 1, 0, 0, 1, 2, 2, 2, 1, 2, 2,\n",
       "         0, 1, 1, 0, 1, 1, 1, 0, 0, 2, 1, 0, 2, 0, 0, 0, 1, 0, 1, 0, 0, 2,\n",
       "         1, 2, 0, 1, 0, 0, 1, 1, 0, 2, 0, 0, 2, 2, 0, 2, 2, 2, 1]),\n",
       "  'mean_target': array([0.1360491 , 0.13769285, 0.32026038], dtype=float32),\n",
       "  'mean_weighted_target': array([], dtype=float32),\n",
       "  'mean_prediction': array([0.13664305, 0.14104918, 0.32249907], dtype=float32),\n",
       "  'objects_per_bin': array([68, 67, 60], dtype=uint32),\n",
       "  'predictions_on_varying_feature': array([0.1402818 , 0.14524528, 0.3105902 ])},\n",
       " '1': {'borders': array([1.125, 1.375], dtype=float32),\n",
       "  'binarized_feature': array([1, 1, 0, 1, 0, 0, 1, 1, 2, 2, 2, 2, 1, 0, 2, 0, 0, 0, 1, 1, 0, 0,\n",
       "         1, 1, 1, 0, 1, 0, 0, 1, 1, 2, 0, 1, 2, 0, 0, 1, 0, 1, 0, 0, 2, 2,\n",
       "         1, 2, 0, 2, 0, 0, 1, 1, 2, 1, 2, 1, 0, 2, 2, 2, 0, 2, 0, 0, 0, 2,\n",
       "         2, 2, 1, 1, 0, 2, 1, 2, 1, 2, 1, 1, 0, 0, 2, 1, 1, 2, 2, 0, 0, 2,\n",
       "         0, 1, 2, 2, 2, 2, 2, 0, 0, 0, 1, 1, 2, 1, 1, 2, 0, 2, 0, 0, 2, 1,\n",
       "         0, 2, 2, 2, 1, 0, 0, 2, 0, 1, 0, 0, 1, 0, 1, 0, 0, 1, 2, 2, 1, 2,\n",
       "         0, 1, 0, 2, 2, 2, 2, 0, 2, 2, 0, 2, 2, 1, 1, 1, 1, 0, 0, 2, 0, 1,\n",
       "         0, 1, 1, 0, 2, 1, 2, 0, 1, 1, 2, 0, 0, 2, 0, 0, 1, 1, 1, 2, 0, 1,\n",
       "         2, 0, 1, 1, 1, 0, 0, 0, 1, 0, 1, 0, 1, 1, 1, 0, 1, 2, 2]),\n",
       "  'mean_target': array([0.21195853, 0.21101561, 0.1523368 ], dtype=float32),\n",
       "  'mean_weighted_target': array([], dtype=float32),\n",
       "  'mean_prediction': array([0.21494226, 0.2064483 , 0.16058932], dtype=float32),\n",
       "  'objects_per_bin': array([69, 66, 60], dtype=uint32),\n",
       "  'predictions_on_varying_feature': array([0.19274203, 0.19821334, 0.19584153])},\n",
       " '2': {'borders': array([1.7 , 3.75], dtype=float32),\n",
       "  'binarized_feature': array([1, 1, 0, 0, 0, 0, 1, 0, 0, 1, 0, 0, 0, 2, 1, 2, 0, 1, 0, 0, 2, 0,\n",
       "         2, 1, 2, 0, 1, 2, 1, 1, 2, 1, 1, 2, 1, 2, 1, 0, 1, 2, 2, 1, 2, 2,\n",
       "         2, 0, 2, 1, 2, 2, 2, 0, 2, 2, 2, 2, 0, 0, 0, 0, 0, 1, 2, 1, 1, 2,\n",
       "         0, 1, 0, 0, 1, 2, 1, 1, 0, 1, 1, 0, 1, 2, 2, 0, 2, 1, 0, 2, 1, 1,\n",
       "         0, 1, 0, 2, 2, 1, 0, 0, 2, 2, 0, 0, 2, 2, 1, 0, 2, 0, 1, 2, 2, 0,\n",
       "         2, 2, 0, 0, 2, 2, 1, 1, 2, 2, 2, 1, 2, 1, 1, 2, 2, 2, 1, 1, 1, 1,\n",
       "         2, 1, 1, 1, 0, 0, 2, 2, 0, 0, 1, 0, 0, 2, 2, 0, 1, 2, 2, 1, 1, 2,\n",
       "         1, 2, 1, 1, 1, 0, 2, 1, 0, 2, 1, 1, 2, 2, 2, 2, 2, 2, 2, 0, 0, 2,\n",
       "         1, 1, 1, 1, 1, 0, 0, 0, 0, 1, 1, 1, 2, 2, 1, 1, 1, 2, 2]),\n",
       "  'mean_target': array([0.12157164, 0.16681898, 0.27308685], dtype=float32),\n",
       "  'mean_weighted_target': array([], dtype=float32),\n",
       "  'mean_prediction': array([0.12154198, 0.16845486, 0.27711415], dtype=float32),\n",
       "  'objects_per_bin': array([55, 68, 72], dtype=uint32),\n",
       "  'predictions_on_varying_feature': array([0.13040336, 0.18338605, 0.25434003])},\n",
       " '3': {'borders': array([], dtype=float32),\n",
       "  'binarized_feature': array([], dtype=int64),\n",
       "  'mean_target': array([], dtype=float32),\n",
       "  'mean_weighted_target': array([], dtype=float32),\n",
       "  'mean_prediction': array([], dtype=float32),\n",
       "  'objects_per_bin': array([], dtype=uint32),\n",
       "  'predictions_on_varying_feature': array([], dtype=float64)},\n",
       " '4': {'borders': array([-0.25,  0.25], dtype=float32),\n",
       "  'binarized_feature': array([0, 1, 0, 1, 2, 2, 2, 1, 1, 0, 0, 2, 0, 0, 1, 2, 1, 0, 1, 2, 2, 0,\n",
       "         2, 1, 2, 0, 0, 1, 1, 1, 0, 0, 1, 2, 2, 1, 0, 1, 1, 0, 2, 0, 2, 1,\n",
       "         0, 2, 1, 1, 2, 1, 2, 0, 1, 0, 0, 2, 1, 1, 0, 1, 2, 1, 0, 0, 0, 0,\n",
       "         0, 0, 1, 0, 1, 1, 2, 0, 2, 0, 1, 2, 2, 1, 0, 1, 0, 2, 2, 2, 1, 2,\n",
       "         2, 0, 1, 1, 1, 1, 0, 0, 2, 1, 0, 1, 2, 2, 2, 1, 0, 2, 1, 1, 1, 0,\n",
       "         0, 2, 2, 2, 1, 2, 2, 1, 0, 1, 0, 1, 2, 2, 0, 2, 0, 2, 0, 1, 2, 1,\n",
       "         2, 1, 1, 2, 0, 2, 1, 0, 1, 0, 1, 0, 0, 1, 0, 0, 0, 1, 0, 0, 2, 2,\n",
       "         1, 2, 0, 1, 0, 2, 2, 2, 0, 2, 1, 2, 1, 1, 0, 0, 1, 0, 1, 0, 0, 0,\n",
       "         2, 2, 1, 1, 0, 2, 0, 0, 0, 1, 1, 2, 2, 1, 1, 0, 2, 1, 0]),\n",
       "  'mean_target': array([0.17001486, 0.17198984, 0.24467902], dtype=float32),\n",
       "  'mean_weighted_target': array([], dtype=float32),\n",
       "  'mean_prediction': array([0.1719173 , 0.18441215, 0.23494175], dtype=float32),\n",
       "  'objects_per_bin': array([68, 68, 59], dtype=uint32),\n",
       "  'predictions_on_varying_feature': array([0.1827827 , 0.18516115, 0.22292601])},\n",
       " '5': {'borders': array([15., 25., 35., 45., 55.], dtype=float32),\n",
       "  'binarized_feature': array([2, 5, 1, 2, 3, 5, 0, 0, 5, 3, 0, 1, 1, 3, 4, 3, 4, 3, 2, 5, 5, 3,\n",
       "         1, 0, 1, 5, 0, 4, 3, 3, 0, 1, 1, 4, 2, 5, 5, 2, 1, 5, 3, 5, 3, 3,\n",
       "         2, 2, 3, 5, 3, 4, 4, 1, 1, 3, 4, 2, 2, 2, 2, 0, 2, 5, 0, 2, 3, 0,\n",
       "         5, 2, 0, 5, 0, 4, 2, 4, 2, 5, 1, 4, 4, 2, 4, 3, 0, 5, 4, 4, 3, 0,\n",
       "         3, 2, 4, 3, 5, 0, 2, 5, 2, 0, 1, 2, 5, 5, 3, 5, 2, 0, 3, 1, 5, 4,\n",
       "         1, 0, 4, 3, 3, 4, 1, 5, 4, 0, 1, 5, 1, 0, 3, 1, 1, 0, 5, 3, 5, 3,\n",
       "         5, 3, 2, 1, 3, 5, 2, 5, 5, 4, 0, 5, 4, 4, 0, 0, 4, 3, 0, 1, 5, 3,\n",
       "         2, 5, 4, 4, 2, 1, 1, 1, 5, 4, 1, 1, 2, 5, 4, 5, 0, 5, 4, 0, 5, 4,\n",
       "         3, 2, 2, 4, 3, 1, 2, 1, 3, 1, 1, 3, 0, 3, 0, 5, 5, 2, 4]),\n",
       "  'mean_target': array([0.31945148, 0.20372795, 0.1788826 , 0.16991459, 0.1696613 ,\n",
       "         0.14710075], dtype=float32),\n",
       "  'mean_weighted_target': array([], dtype=float32),\n",
       "  'mean_prediction': array([0.30603218, 0.20475651, 0.18098512, 0.17662413, 0.18001296,\n",
       "         0.15018956], dtype=float32),\n",
       "  'objects_per_bin': array([28, 30, 31, 35, 31, 40], dtype=uint32),\n",
       "  'predictions_on_varying_feature': array([0.29713621, 0.21236921, 0.18341489, 0.17021853, 0.17077841,\n",
       "         0.1587191 ])},\n",
       " '6': {'borders': array([300000.], dtype=float32),\n",
       "  'binarized_feature': array([0, 0, 1, 1, 0, 1, 1, 0, 1, 0, 0, 0, 0, 0, 1, 0, 0, 1, 1, 0, 0, 0,\n",
       "         0, 0, 1, 0, 1, 1, 1, 0, 1, 0, 1, 0, 0, 0, 0, 0, 0, 0, 1, 0, 0, 1,\n",
       "         1, 0, 1, 0, 1, 0, 1, 0, 0, 0, 0, 1, 1, 1, 1, 0, 1, 1, 0, 1, 0, 0,\n",
       "         0, 0, 0, 0, 0, 0, 1, 1, 1, 1, 0, 1, 0, 1, 0, 1, 1, 0, 0, 0, 1, 0,\n",
       "         0, 0, 1, 0, 0, 1, 0, 1, 0, 1, 1, 0, 0, 0, 0, 1, 1, 1, 0, 1, 1, 1,\n",
       "         1, 0, 1, 0, 1, 0, 1, 1, 1, 1, 0, 1, 1, 0, 1, 1, 0, 0, 1, 1, 0, 1,\n",
       "         1, 1, 1, 1, 0, 0, 0, 1, 0, 1, 1, 1, 1, 0, 0, 0, 0, 1, 1, 0, 0, 1,\n",
       "         1, 1, 1, 1, 1, 1, 0, 1, 1, 0, 1, 0, 0, 0, 1, 0, 0, 1, 0, 1, 0, 0,\n",
       "         0, 1, 1, 0, 0, 0, 0, 1, 1, 0, 0, 0, 1, 1, 1, 1, 0, 0, 0]),\n",
       "  'mean_target': array([0.2131774, 0.171487 ], dtype=float32),\n",
       "  'mean_weighted_target': array([], dtype=float32),\n",
       "  'mean_prediction': array([0.20995289, 0.1793201 ], dtype=float32),\n",
       "  'objects_per_bin': array([102,  93], dtype=uint32),\n",
       "  'predictions_on_varying_feature': array([0.20767463, 0.18217246])}}"
      ]
     },
     "execution_count": 5,
     "metadata": {},
     "output_type": "execute_result"
    }
   ],
   "source": [
    "cbr.calc_feature_statistics(\n",
    "    val_X,\n",
    "    val_y,\n",
    "    plot=True,\n",
    "    max_cat_features_on_plot=10,\n",
    "    thread_count=-1,\n",
    ")"
   ]
  }
 ],
 "metadata": {
  "kernelspec": {
   "display_name": ".venv",
   "language": "python",
   "name": "python3"
  },
  "language_info": {
   "codemirror_mode": {
    "name": "ipython",
    "version": 3
   },
   "file_extension": ".py",
   "mimetype": "text/x-python",
   "name": "python",
   "nbconvert_exporter": "python",
   "pygments_lexer": "ipython3",
   "version": "3.10.12"
  }
 },
 "nbformat": 4,
 "nbformat_minor": 2
}
