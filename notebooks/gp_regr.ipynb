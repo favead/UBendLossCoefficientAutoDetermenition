{
 "cells": [
  {
   "cell_type": "code",
   "execution_count": 1,
   "metadata": {},
   "outputs": [
    {
     "name": "stderr",
     "output_type": "stream",
     "text": [
      "/media/fave/2F0D54A5643C36A93/diploma/UBendLossCoefficientAutoDetermenition/.venv/lib/python3.10/site-packages/tqdm/auto.py:21: TqdmWarning: IProgress not found. Please update jupyter and ipywidgets. See https://ipywidgets.readthedocs.io/en/stable/user_install.html\n",
      "  from .autonotebook import tqdm as notebook_tqdm\n"
     ]
    }
   ],
   "source": [
    "import numpy as np  # For array operations\n",
    "import pandas as pd  # For Dataframe operations (similar to Excel spreadsheets)\n",
    "from scipy.stats import norm\n",
    "\n",
    "# For plotting figures\n",
    "import matplotlib.pyplot as plt  \n",
    "from matplotlib.ticker import (MultipleLocator, FormatStrFormatter,\n",
    "                              AutoMinorLocator)\n",
    "\n",
    "# Machine learning-realated functions\n",
    "from sklearn.preprocessing import StandardScaler, MinMaxScaler # For normalizing inputs\n",
    "from sklearn.decomposition import PCA # Principle component analysis\n",
    "from sklearn.gaussian_process import GaussianProcessRegressor\n",
    "from sklearn.gaussian_process.kernels import DotProduct, WhiteKernel\n",
    "from sklearn.gaussian_process.kernels import RBF, ConstantKernel as C ,WhiteKernel as Wht,Matern as matk\n",
    "\n",
    "from tqdm.auto import tqdm  # progress bar\n",
    "\n",
    "from warnings import filterwarnings # disable warnings\n",
    "filterwarnings('ignore')\n",
    "\n",
    "from sklearn.metrics import (\n",
    "    r2_score,\n",
    "    mean_squared_error,\n",
    "    mean_absolute_percentage_error,\n",
    "    mean_absolute_error,\n",
    ")\n",
    "\n",
    "from IPython import display\n",
    "%matplotlib inline "
   ]
  },
  {
   "cell_type": "code",
   "execution_count": 9,
   "metadata": {},
   "outputs": [],
   "source": [
    "def preprocess_features(train_data: np.ndarray) -> StandardScaler:\n",
    "    scaler = StandardScaler()\n",
    "    scaler = scaler.fit(train_data)\n",
    "    return scaler"
   ]
  },
  {
   "cell_type": "code",
   "execution_count": 28,
   "metadata": {},
   "outputs": [],
   "source": [
    "def gpregression(Xtrain,Ytrain,Nfeature):    \n",
    "    cmean=[1.0]*Nfeature\n",
    "    cbound=[[1e-3, 1e3]]*Nfeature\n",
    "    kernel = C(1.0, (1e-3,1e3)) * matk(cmean,cbound,2.0) + Wht(1.0, (1e-3, 1e3))  # Matern kernel\n",
    "    gp = GaussianProcessRegressor(kernel=kernel, n_restarts_optimizer=5, normalize_y=False)\n",
    "    gp.fit(Xtrain, Ytrain)\n",
    "    return gp"
   ]
  },
  {
   "cell_type": "code",
   "execution_count": 19,
   "metadata": {},
   "outputs": [],
   "source": [
    "train_data = pd.read_csv(\"../data/processed/train.csv\")\n",
    "val_data = pd.read_csv(\"../data/processed/val.csv\")\n",
    "train_X, train_y = train_data.drop(\"pt_loss\", axis=1), train_data[\"pt_loss\"]\n",
    "val_X, val_y = val_data.drop(\"pt_loss\", axis=1), val_data[\"pt_loss\"]"
   ]
  },
  {
   "cell_type": "code",
   "execution_count": 20,
   "metadata": {},
   "outputs": [],
   "source": [
    "scaler = preprocess_features(train_X.values)"
   ]
  },
  {
   "cell_type": "code",
   "execution_count": 21,
   "metadata": {},
   "outputs": [],
   "source": [
    "train_Xs = scaler.transform(train_X.values)\n",
    "val_Xs = scaler.transform(val_X.values)"
   ]
  },
  {
   "cell_type": "code",
   "execution_count": 26,
   "metadata": {},
   "outputs": [],
   "source": [
    "gpr = gpregression(train_Xs, train_y.values, Nfeature=7)"
   ]
  },
  {
   "cell_type": "code",
   "execution_count": 23,
   "metadata": {},
   "outputs": [
    {
     "name": "stdout",
     "output_type": "stream",
     "text": [
      "Validation R2 score: 0.9226938036092356\n",
      "MAPE: 0.09044659426946486\n",
      "MAE: 0.01675632162442941\n",
      "MSE: 0.001241925906220674\n"
     ]
    }
   ],
   "source": [
    "val_preds = gpr.predict(val_Xs)\n",
    "r2 = r2_score(val_y.values, val_preds)\n",
    "mape = mean_absolute_percentage_error(val_y, val_preds)\n",
    "mse = mean_squared_error(val_y, val_preds)\n",
    "mae = mean_absolute_error(val_y, val_preds)\n",
    "print(f\"Validation R2 score: {r2}\")\n",
    "print(f\"MAPE: {mape}\")\n",
    "print(f\"MAE: {mae}\")\n",
    "print(f\"MSE: {mse}\")"
   ]
  },
  {
   "cell_type": "code",
   "execution_count": 24,
   "metadata": {},
   "outputs": [
    {
     "name": "stdout",
     "output_type": "stream",
     "text": [
      "Validation R2 score: 0.8632565080844814\n",
      "MAPE: 0.1470761607920514\n",
      "MAE: 0.025328323370975656\n",
      "MSE: 0.002196787489822078\n"
     ]
    }
   ],
   "source": [
    "gpr = gpregression(train_Xs[:100], train_y.values[:100], Nfeature=7)\n",
    "val_preds = gpr.predict(val_Xs)\n",
    "r2 = r2_score(val_y.values, val_preds)\n",
    "mape = mean_absolute_percentage_error(val_y, val_preds)\n",
    "mse = mean_squared_error(val_y, val_preds)\n",
    "mae = mean_absolute_error(val_y, val_preds)\n",
    "print(f\"Validation R2 score: {r2}\")\n",
    "print(f\"MAPE: {mape}\")\n",
    "print(f\"MAE: {mae}\")\n",
    "print(f\"MSE: {mse}\")"
   ]
  },
  {
   "cell_type": "code",
   "execution_count": 15,
   "metadata": {},
   "outputs": [],
   "source": [
    "gpr = gpregression(train_X.values, train_y.values, Nfeature=7)"
   ]
  },
  {
   "cell_type": "code",
   "execution_count": 16,
   "metadata": {},
   "outputs": [
    {
     "name": "stdout",
     "output_type": "stream",
     "text": [
      "Validation R2 score: 0.902779078840072\n",
      "MAPE: 0.10556638610821935\n",
      "MAE: 0.01828669581607512\n",
      "MSE: 0.0015618564390988071\n"
     ]
    }
   ],
   "source": [
    "val_preds = gpr.predict(val_X.values)\n",
    "r2 = r2_score(val_y.values, val_preds)\n",
    "mape = mean_absolute_percentage_error(val_y, val_preds)\n",
    "mse = mean_squared_error(val_y, val_preds)\n",
    "mae = mean_absolute_error(val_y, val_preds)\n",
    "print(f\"Validation R2 score: {r2}\")\n",
    "print(f\"MAPE: {mape}\")\n",
    "print(f\"MAE: {mae}\")\n",
    "print(f\"MSE: {mse}\")"
   ]
  },
  {
   "cell_type": "code",
   "execution_count": 29,
   "metadata": {},
   "outputs": [
    {
     "name": "stdout",
     "output_type": "stream",
     "text": [
      "Validation R2 score: 0.8109405567971341\n",
      "MAPE: 0.21667114145034735\n",
      "MAE: 0.032739606515975093\n",
      "MSE: 0.0030372445067979852\n"
     ]
    }
   ],
   "source": [
    "gpr = gpregression(train_X.values[:100], train_y.values[:100], Nfeature=7)\n",
    "val_preds = gpr.predict(val_X.values)\n",
    "r2 = r2_score(val_y.values, val_preds)\n",
    "mape = mean_absolute_percentage_error(val_y, val_preds)\n",
    "mse = mean_squared_error(val_y, val_preds)\n",
    "mae = mean_absolute_error(val_y, val_preds)\n",
    "print(f\"Validation R2 score: {r2}\")\n",
    "print(f\"MAPE: {mape}\")\n",
    "print(f\"MAE: {mae}\")\n",
    "print(f\"MSE: {mse}\")"
   ]
  }
 ],
 "metadata": {
  "kernelspec": {
   "display_name": ".venv",
   "language": "python",
   "name": "python3"
  },
  "language_info": {
   "codemirror_mode": {
    "name": "ipython",
    "version": 3
   },
   "file_extension": ".py",
   "mimetype": "text/x-python",
   "name": "python",
   "nbconvert_exporter": "python",
   "pygments_lexer": "ipython3",
   "version": "3.10.12"
  }
 },
 "nbformat": 4,
 "nbformat_minor": 2
}
