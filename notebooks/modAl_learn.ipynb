{
 "cells": [
  {
   "cell_type": "code",
   "execution_count": 2,
   "metadata": {},
   "outputs": [],
   "source": [
    "from modAL.models import ActiveLearner\n",
    "from modAL.acquisition import max_EI\n",
    "from modAL.disagreement import max_std_sampling, vote_entropy_sampling\n",
    "import numpy as np\n",
    "import pandas as pd\n",
    "from sklearn.linear_model import SGDRegressor\n",
    "from sklearn.metrics import r2_score\n",
    "from typing import Union\n",
    "\n",
    "import matplotlib.pyplot as plt\n",
    "import numpy as np\n",
    "import pandas as pd\n",
    "from sklearn.gaussian_process import GaussianProcessRegressor\n",
    "from sklearn.gaussian_process.kernels import RationalQuadratic, ExpSineSquared\n",
    "from sklearn.linear_model import SGDRegressor, LinearRegression\n",
    "from sklearn.gaussian_process.kernels import RBF, ConstantKernel as C ,WhiteKernel as Wht,Matern as matk\n",
    "from sklearn.svm import SVR\n",
    "from sklearn.ensemble import GradientBoostingRegressor, RandomForestRegressor\n",
    "from sklearn.model_selection import train_test_split\n",
    "from sklearn.metrics import (\n",
    "    r2_score,\n",
    "    mean_squared_error,\n",
    "    mean_absolute_percentage_error,\n",
    "    mean_absolute_error,\n",
    ")"
   ]
  },
  {
   "cell_type": "code",
   "execution_count": 6,
   "metadata": {},
   "outputs": [],
   "source": [
    "def gpregression(Xtrain,Ytrain,Nfeature):    \n",
    "    cmean=[1.0]*Nfeature\n",
    "    cbound=[[1e-6, 1e6]]*Nfeature\n",
    "    kernel = C(1.0, (1e-6,1e6)) * matk(cmean,cbound,1.2) + Wht(1.0, (1e-6, 1e6))  # Matern kernel\n",
    "    gp = GaussianProcessRegressor(kernel=kernel, n_restarts_optimizer=5, normalize_y=False)\n",
    "    gp.fit(Xtrain, Ytrain)\n",
    "    return gp\n",
    "\n",
    "def gprediction(gpnetwork,xtest):\n",
    "    y_pred, sigma = gpnetwork.predict(xtest, return_std=True)\n",
    "    return y_pred, sigma\n"
   ]
  },
  {
   "cell_type": "code",
   "execution_count": 5,
   "metadata": {},
   "outputs": [],
   "source": [
    "def upperConfidenceBound(xdata,gpnetwork,epsilon):\n",
    "    \"\"\"\n",
    "        xdata: input feature vectors or PCs of the REMAINING set\n",
    "        gpnetwork: GPR model\n",
    "        epsilon: control exploration/exploitation. Higher epsilon means more exploration\n",
    "    \"\"\"\n",
    "    ye_pred, esigma = gprediction(gpnetwork, xdata)\n",
    "    ucb = np.empty(ye_pred.size, dtype=float)\n",
    "    for ii in range(0,ye_pred.size):\n",
    "        if esigma[ii] > 0:\n",
    "            ucb[ii]=(ye_pred[ii]+epsilon*esigma[ii])\n",
    "        else:\n",
    "            ucb[ii]=0.0\n",
    "    return ucb"
   ]
  },
  {
   "cell_type": "code",
   "execution_count": 4,
   "metadata": {},
   "outputs": [],
   "source": [
    "train_data = pd.read_csv(\"../data/processed/train.csv\")\n",
    "val_data = pd.read_csv(\"../data/processed/val.csv\")\n",
    "train_X, train_y = train_data.drop(\"pt_loss\", axis=1), train_data[\"pt_loss\"]\n",
    "val_X, val_y = val_data.drop(\"pt_loss\", axis=1), val_data[\"pt_loss\"]\n",
    "n_start_points = 10\n",
    "n_steps = 10"
   ]
  },
  {
   "cell_type": "code",
   "execution_count": null,
   "metadata": {},
   "outputs": [],
   "source": [
    "ndata = train_X.values.shape[0]   # Length of all data or number of molecules in the dataset\n",
    "n_PC = 7\n",
    "Xdata = train_X.values\n",
    "\n",
    "ntrainInit = 10 # Number of initial training data points\n",
    "nremain = ndata - ntrainInit\n",
    "np.random.seed(10) # Fix the seed value\n",
    "dataset = np.random.permutation(ndata)\n",
    "a1data = np.empty(ntrainInit, dtype=int)\n",
    "a2data = np.empty(nremain, dtype=int)\n",
    "a1data[:] = dataset[0:ntrainInit]\n",
    "a2data[:] = dataset[ntrainInit:ndata]\n",
    "\n",
    "Xtrain = np.ndarray(shape=(ntrainInit, n_PC), dtype=float)\n",
    "XtrainSmiles = np.chararray(ntrainInit, itemsize=100)\n",
    "Ytrain = np.zeros(ntrainInit, dtype=float)\n",
    "Xtrain[0:ntrainInit, :] = Xdata[a1data, :]\n",
    "XtrainSmiles[0:ntrainInit] = Xsmiles[a1data]\n",
    "\n",
    "Xremain = np.ndarray(shape=(nremain, n_PC), dtype=float)\n",
    "XremainSmiles = np.chararray(nremain, itemsize=100)\n",
    "Yremain = np.empty(nremain, dtype=float)\n",
    "Xremain[0:nremain, :] = Xdata[a2data, :]\n",
    "XremainSmiles[0:nremain] = Xsmiles[a2data]\n",
    "\n",
    "print('*** Initial training set ***')\n",
    "print(115*'-')\n",
    "print('{:<5s}{:<80s}{:<15s}'.format('ID','SMILES','Eox (V vs. NHE)'))\n",
    "print(115*'-')\n",
    "for i in range(ntrainInit):\n",
    "    print('{:<5d}{:<80s}{:<15f}'.format(i,XtrainSmiles[i].decode(),Ytrain[i]))\n",
    "print(115*'-')  \n",
    "print(\"Total number of inital training points: \", ntrainInit)\n",
    "print(\"Total number of remaining points: \", nremain)"
   ]
  },
  {
   "cell_type": "code",
   "execution_count": 12,
   "metadata": {},
   "outputs": [],
   "source": [
    "train_idx = np.random.choice(len(train_X), n_start_points)"
   ]
  },
  {
   "cell_type": "code",
   "execution_count": 17,
   "metadata": {},
   "outputs": [],
   "source": [
    "train_xb = train_X.iloc[train_idx].values\n",
    "train_yb = train_y.iloc[train_idx].values"
   ]
  },
  {
   "cell_type": "code",
   "execution_count": 18,
   "metadata": {},
   "outputs": [],
   "source": [
    "train_xp = train_X.drop(train_idx, axis=0).values\n",
    "train_yp = train_y.drop(train_idx, axis=0).values"
   ]
  },
  {
   "cell_type": "code",
   "execution_count": 26,
   "metadata": {},
   "outputs": [],
   "source": [
    "learner = ActiveLearner(\n",
    "    estimator=SGDRegressor(),\n",
    "    query_strategy=max_EI,\n",
    "    X_training=train_xb,\n",
    "    y_training=train_yb\n",
    ")"
   ]
  },
  {
   "cell_type": "code",
   "execution_count": 27,
   "metadata": {},
   "outputs": [
    {
     "ename": "TypeError",
     "evalue": "BaseSGDRegressor.predict() got an unexpected keyword argument 'return_std'",
     "output_type": "error",
     "traceback": [
      "\u001b[0;31m---------------------------------------------------------------------------\u001b[0m",
      "\u001b[0;31mTypeError\u001b[0m                                 Traceback (most recent call last)",
      "File \u001b[0;32m/media/fave/2F0D54A5643C36A93/diploma/UBendLossCoefficientAutoDetermenition/.venv/lib/python3.10/site-packages/modAL/models/base.py:175\u001b[0m, in \u001b[0;36mBaseLearner.query\u001b[0;34m(self, X_pool, return_metrics, *query_args, **query_kwargs)\u001b[0m\n\u001b[1;32m    174\u001b[0m \u001b[38;5;28;01mtry\u001b[39;00m:\n\u001b[0;32m--> 175\u001b[0m     query_result, query_metrics \u001b[38;5;241m=\u001b[39m \u001b[38;5;28;43mself\u001b[39;49m\u001b[38;5;241;43m.\u001b[39;49m\u001b[43mquery_strategy\u001b[49m\u001b[43m(\u001b[49m\n\u001b[1;32m    176\u001b[0m \u001b[43m        \u001b[49m\u001b[38;5;28;43mself\u001b[39;49m\u001b[43m,\u001b[49m\u001b[43m \u001b[49m\u001b[43mX_pool\u001b[49m\u001b[43m,\u001b[49m\u001b[43m \u001b[49m\u001b[38;5;241;43m*\u001b[39;49m\u001b[43mquery_args\u001b[49m\u001b[43m,\u001b[49m\u001b[43m \u001b[49m\u001b[38;5;241;43m*\u001b[39;49m\u001b[38;5;241;43m*\u001b[39;49m\u001b[43mquery_kwargs\u001b[49m\u001b[43m)\u001b[49m\n\u001b[1;32m    178\u001b[0m \u001b[38;5;28;01mexcept\u001b[39;00m:\n",
      "File \u001b[0;32m/media/fave/2F0D54A5643C36A93/diploma/UBendLossCoefficientAutoDetermenition/.venv/lib/python3.10/site-packages/modAL/acquisition.py:141\u001b[0m, in \u001b[0;36mmax_EI\u001b[0;34m(optimizer, X, tradeoff, n_instances)\u001b[0m\n\u001b[1;32m    127\u001b[0m \u001b[38;5;250m\u001b[39m\u001b[38;5;124;03m\"\"\"\u001b[39;00m\n\u001b[1;32m    128\u001b[0m \u001b[38;5;124;03mMaximum EI query strategy. Selects the instance with highest expected improvement.\u001b[39;00m\n\u001b[1;32m    129\u001b[0m \n\u001b[0;32m   (...)\u001b[0m\n\u001b[1;32m    139\u001b[0m \n\u001b[1;32m    140\u001b[0m \u001b[38;5;124;03m\"\"\"\u001b[39;00m\n\u001b[0;32m--> 141\u001b[0m ei \u001b[38;5;241m=\u001b[39m \u001b[43moptimizer_EI\u001b[49m\u001b[43m(\u001b[49m\u001b[43moptimizer\u001b[49m\u001b[43m,\u001b[49m\u001b[43m \u001b[49m\u001b[43mX\u001b[49m\u001b[43m,\u001b[49m\u001b[43m \u001b[49m\u001b[43mtradeoff\u001b[49m\u001b[38;5;241;43m=\u001b[39;49m\u001b[43mtradeoff\u001b[49m\u001b[43m)\u001b[49m\n\u001b[1;32m    142\u001b[0m \u001b[38;5;28;01mreturn\u001b[39;00m multi_argmax(ei, n_instances\u001b[38;5;241m=\u001b[39mn_instances)\n",
      "File \u001b[0;32m/media/fave/2F0D54A5643C36A93/diploma/UBendLossCoefficientAutoDetermenition/.venv/lib/python3.10/site-packages/modAL/acquisition.py:69\u001b[0m, in \u001b[0;36moptimizer_EI\u001b[0;34m(optimizer, X, tradeoff)\u001b[0m\n\u001b[1;32m     68\u001b[0m \u001b[38;5;28;01mtry\u001b[39;00m:\n\u001b[0;32m---> 69\u001b[0m     mean, std \u001b[38;5;241m=\u001b[39m \u001b[43moptimizer\u001b[49m\u001b[38;5;241;43m.\u001b[39;49m\u001b[43mpredict\u001b[49m\u001b[43m(\u001b[49m\u001b[43mX\u001b[49m\u001b[43m,\u001b[49m\u001b[43m \u001b[49m\u001b[43mreturn_std\u001b[49m\u001b[38;5;241;43m=\u001b[39;49m\u001b[38;5;28;43;01mTrue\u001b[39;49;00m\u001b[43m)\u001b[49m\n\u001b[1;32m     70\u001b[0m     mean, std \u001b[38;5;241m=\u001b[39m mean\u001b[38;5;241m.\u001b[39mreshape(\u001b[38;5;241m-\u001b[39m\u001b[38;5;241m1\u001b[39m, ), std\u001b[38;5;241m.\u001b[39mreshape(\u001b[38;5;241m-\u001b[39m\u001b[38;5;241m1\u001b[39m, )\n",
      "File \u001b[0;32m/media/fave/2F0D54A5643C36A93/diploma/UBendLossCoefficientAutoDetermenition/.venv/lib/python3.10/site-packages/modAL/models/base.py:140\u001b[0m, in \u001b[0;36mBaseLearner.predict\u001b[0;34m(self, X, **predict_kwargs)\u001b[0m\n\u001b[1;32m    130\u001b[0m \u001b[38;5;250m\u001b[39m\u001b[38;5;124;03m\"\"\"\u001b[39;00m\n\u001b[1;32m    131\u001b[0m \u001b[38;5;124;03mEstimator predictions for X. Interface with the predict method of the estimator.\u001b[39;00m\n\u001b[1;32m    132\u001b[0m \n\u001b[0;32m   (...)\u001b[0m\n\u001b[1;32m    138\u001b[0m \u001b[38;5;124;03m    Estimator predictions for X.\u001b[39;00m\n\u001b[1;32m    139\u001b[0m \u001b[38;5;124;03m\"\"\"\u001b[39;00m\n\u001b[0;32m--> 140\u001b[0m \u001b[38;5;28;01mreturn\u001b[39;00m \u001b[38;5;28;43mself\u001b[39;49m\u001b[38;5;241;43m.\u001b[39;49m\u001b[43mestimator\u001b[49m\u001b[38;5;241;43m.\u001b[39;49m\u001b[43mpredict\u001b[49m\u001b[43m(\u001b[49m\u001b[43mX\u001b[49m\u001b[43m,\u001b[49m\u001b[43m \u001b[49m\u001b[38;5;241;43m*\u001b[39;49m\u001b[38;5;241;43m*\u001b[39;49m\u001b[43mpredict_kwargs\u001b[49m\u001b[43m)\u001b[49m\n",
      "\u001b[0;31mTypeError\u001b[0m: BaseSGDRegressor.predict() got an unexpected keyword argument 'return_std'",
      "\nDuring handling of the above exception, another exception occurred:\n",
      "\u001b[0;31mTypeError\u001b[0m                                 Traceback (most recent call last)",
      "Cell \u001b[0;32mIn[27], line 2\u001b[0m\n\u001b[1;32m      1\u001b[0m \u001b[38;5;28;01mfor\u001b[39;00m idx \u001b[38;5;129;01min\u001b[39;00m \u001b[38;5;28mrange\u001b[39m(n_steps):\n\u001b[0;32m----> 2\u001b[0m     query_idx, query_instance \u001b[38;5;241m=\u001b[39m \u001b[43mlearner\u001b[49m\u001b[38;5;241;43m.\u001b[39;49m\u001b[43mquery\u001b[49m\u001b[43m(\u001b[49m\u001b[43mtrain_xp\u001b[49m\u001b[43m)\u001b[49m\n\u001b[1;32m      3\u001b[0m     learner\u001b[38;5;241m.\u001b[39mteach(\n\u001b[1;32m      4\u001b[0m         X\u001b[38;5;241m=\u001b[39mtrain_xp[query_idx],\n\u001b[1;32m      5\u001b[0m         y\u001b[38;5;241m=\u001b[39mtrain_yp[query_idx]\u001b[38;5;241m.\u001b[39mreshape(\u001b[38;5;241m1\u001b[39m, )\n\u001b[1;32m      6\u001b[0m     )\n\u001b[1;32m      7\u001b[0m     \u001b[38;5;66;03m# remove queried instance from pool\u001b[39;00m\n",
      "File \u001b[0;32m/media/fave/2F0D54A5643C36A93/diploma/UBendLossCoefficientAutoDetermenition/.venv/lib/python3.10/site-packages/modAL/models/base.py:180\u001b[0m, in \u001b[0;36mBaseLearner.query\u001b[0;34m(self, X_pool, return_metrics, *query_args, **query_kwargs)\u001b[0m\n\u001b[1;32m    178\u001b[0m \u001b[38;5;28;01mexcept\u001b[39;00m:\n\u001b[1;32m    179\u001b[0m     query_metrics \u001b[38;5;241m=\u001b[39m \u001b[38;5;28;01mNone\u001b[39;00m\n\u001b[0;32m--> 180\u001b[0m     query_result \u001b[38;5;241m=\u001b[39m \u001b[38;5;28;43mself\u001b[39;49m\u001b[38;5;241;43m.\u001b[39;49m\u001b[43mquery_strategy\u001b[49m\u001b[43m(\u001b[49m\n\u001b[1;32m    181\u001b[0m \u001b[43m        \u001b[49m\u001b[38;5;28;43mself\u001b[39;49m\u001b[43m,\u001b[49m\u001b[43m \u001b[49m\u001b[43mX_pool\u001b[49m\u001b[43m,\u001b[49m\u001b[43m \u001b[49m\u001b[38;5;241;43m*\u001b[39;49m\u001b[43mquery_args\u001b[49m\u001b[43m,\u001b[49m\u001b[43m \u001b[49m\u001b[38;5;241;43m*\u001b[39;49m\u001b[38;5;241;43m*\u001b[39;49m\u001b[43mquery_kwargs\u001b[49m\u001b[43m)\u001b[49m\n\u001b[1;32m    183\u001b[0m \u001b[38;5;28;01mif\u001b[39;00m return_metrics:\n\u001b[1;32m    184\u001b[0m     \u001b[38;5;28;01mif\u001b[39;00m query_metrics \u001b[38;5;129;01mis\u001b[39;00m \u001b[38;5;28;01mNone\u001b[39;00m: \n",
      "File \u001b[0;32m/media/fave/2F0D54A5643C36A93/diploma/UBendLossCoefficientAutoDetermenition/.venv/lib/python3.10/site-packages/modAL/acquisition.py:141\u001b[0m, in \u001b[0;36mmax_EI\u001b[0;34m(optimizer, X, tradeoff, n_instances)\u001b[0m\n\u001b[1;32m    125\u001b[0m \u001b[38;5;28;01mdef\u001b[39;00m \u001b[38;5;21mmax_EI\u001b[39m(optimizer: BaseLearner, X: modALinput, tradeoff: \u001b[38;5;28mfloat\u001b[39m \u001b[38;5;241m=\u001b[39m \u001b[38;5;241m0\u001b[39m,\n\u001b[1;32m    126\u001b[0m            n_instances: \u001b[38;5;28mint\u001b[39m \u001b[38;5;241m=\u001b[39m \u001b[38;5;241m1\u001b[39m) \u001b[38;5;241m-\u001b[39m\u001b[38;5;241m>\u001b[39m np\u001b[38;5;241m.\u001b[39mndarray:\n\u001b[1;32m    127\u001b[0m \u001b[38;5;250m    \u001b[39m\u001b[38;5;124;03m\"\"\"\u001b[39;00m\n\u001b[1;32m    128\u001b[0m \u001b[38;5;124;03m    Maximum EI query strategy. Selects the instance with highest expected improvement.\u001b[39;00m\n\u001b[1;32m    129\u001b[0m \n\u001b[0;32m   (...)\u001b[0m\n\u001b[1;32m    139\u001b[0m \n\u001b[1;32m    140\u001b[0m \u001b[38;5;124;03m    \"\"\"\u001b[39;00m\n\u001b[0;32m--> 141\u001b[0m     ei \u001b[38;5;241m=\u001b[39m \u001b[43moptimizer_EI\u001b[49m\u001b[43m(\u001b[49m\u001b[43moptimizer\u001b[49m\u001b[43m,\u001b[49m\u001b[43m \u001b[49m\u001b[43mX\u001b[49m\u001b[43m,\u001b[49m\u001b[43m \u001b[49m\u001b[43mtradeoff\u001b[49m\u001b[38;5;241;43m=\u001b[39;49m\u001b[43mtradeoff\u001b[49m\u001b[43m)\u001b[49m\n\u001b[1;32m    142\u001b[0m     \u001b[38;5;28;01mreturn\u001b[39;00m multi_argmax(ei, n_instances\u001b[38;5;241m=\u001b[39mn_instances)\n",
      "File \u001b[0;32m/media/fave/2F0D54A5643C36A93/diploma/UBendLossCoefficientAutoDetermenition/.venv/lib/python3.10/site-packages/modAL/acquisition.py:69\u001b[0m, in \u001b[0;36moptimizer_EI\u001b[0;34m(optimizer, X, tradeoff)\u001b[0m\n\u001b[1;32m     57\u001b[0m \u001b[38;5;250m\u001b[39m\u001b[38;5;124;03m\"\"\"\u001b[39;00m\n\u001b[1;32m     58\u001b[0m \u001b[38;5;124;03mExpected improvement acquisition function for Bayesian optimization.\u001b[39;00m\n\u001b[1;32m     59\u001b[0m \n\u001b[0;32m   (...)\u001b[0m\n\u001b[1;32m     66\u001b[0m \u001b[38;5;124;03m    Expected improvement utility score.\u001b[39;00m\n\u001b[1;32m     67\u001b[0m \u001b[38;5;124;03m\"\"\"\u001b[39;00m\n\u001b[1;32m     68\u001b[0m \u001b[38;5;28;01mtry\u001b[39;00m:\n\u001b[0;32m---> 69\u001b[0m     mean, std \u001b[38;5;241m=\u001b[39m \u001b[43moptimizer\u001b[49m\u001b[38;5;241;43m.\u001b[39;49m\u001b[43mpredict\u001b[49m\u001b[43m(\u001b[49m\u001b[43mX\u001b[49m\u001b[43m,\u001b[49m\u001b[43m \u001b[49m\u001b[43mreturn_std\u001b[49m\u001b[38;5;241;43m=\u001b[39;49m\u001b[38;5;28;43;01mTrue\u001b[39;49;00m\u001b[43m)\u001b[49m\n\u001b[1;32m     70\u001b[0m     mean, std \u001b[38;5;241m=\u001b[39m mean\u001b[38;5;241m.\u001b[39mreshape(\u001b[38;5;241m-\u001b[39m\u001b[38;5;241m1\u001b[39m, ), std\u001b[38;5;241m.\u001b[39mreshape(\u001b[38;5;241m-\u001b[39m\u001b[38;5;241m1\u001b[39m, )\n\u001b[1;32m     71\u001b[0m \u001b[38;5;28;01mexcept\u001b[39;00m NotFittedError:\n",
      "File \u001b[0;32m/media/fave/2F0D54A5643C36A93/diploma/UBendLossCoefficientAutoDetermenition/.venv/lib/python3.10/site-packages/modAL/models/base.py:140\u001b[0m, in \u001b[0;36mBaseLearner.predict\u001b[0;34m(self, X, **predict_kwargs)\u001b[0m\n\u001b[1;32m    129\u001b[0m \u001b[38;5;28;01mdef\u001b[39;00m \u001b[38;5;21mpredict\u001b[39m(\u001b[38;5;28mself\u001b[39m, X: modALinput, \u001b[38;5;241m*\u001b[39m\u001b[38;5;241m*\u001b[39mpredict_kwargs) \u001b[38;5;241m-\u001b[39m\u001b[38;5;241m>\u001b[39m Any:\n\u001b[1;32m    130\u001b[0m \u001b[38;5;250m    \u001b[39m\u001b[38;5;124;03m\"\"\"\u001b[39;00m\n\u001b[1;32m    131\u001b[0m \u001b[38;5;124;03m    Estimator predictions for X. Interface with the predict method of the estimator.\u001b[39;00m\n\u001b[1;32m    132\u001b[0m \n\u001b[0;32m   (...)\u001b[0m\n\u001b[1;32m    138\u001b[0m \u001b[38;5;124;03m        Estimator predictions for X.\u001b[39;00m\n\u001b[1;32m    139\u001b[0m \u001b[38;5;124;03m    \"\"\"\u001b[39;00m\n\u001b[0;32m--> 140\u001b[0m     \u001b[38;5;28;01mreturn\u001b[39;00m \u001b[38;5;28;43mself\u001b[39;49m\u001b[38;5;241;43m.\u001b[39;49m\u001b[43mestimator\u001b[49m\u001b[38;5;241;43m.\u001b[39;49m\u001b[43mpredict\u001b[49m\u001b[43m(\u001b[49m\u001b[43mX\u001b[49m\u001b[43m,\u001b[49m\u001b[43m \u001b[49m\u001b[38;5;241;43m*\u001b[39;49m\u001b[38;5;241;43m*\u001b[39;49m\u001b[43mpredict_kwargs\u001b[49m\u001b[43m)\u001b[49m\n",
      "\u001b[0;31mTypeError\u001b[0m: BaseSGDRegressor.predict() got an unexpected keyword argument 'return_std'"
     ]
    }
   ],
   "source": [
    "for idx in range(n_steps):\n",
    "    query_idx, query_instance = learner.query(train_xp)\n",
    "    learner.teach(\n",
    "        X=train_xp[query_idx],\n",
    "        y=train_yp[query_idx].reshape(1, )\n",
    "    )\n",
    "    # remove queried instance from pool\n",
    "    train_xp = np.delete(train_xp, query_idx, axis=0)\n",
    "    train_yp = np.delete(train_yp, query_idx)\n",
    "    preds = learner.predict(val_X.values)\n",
    "    print('R2 after query no. %d: %f' % (idx+1, r2_score(val_y, preds)))"
   ]
  }
 ],
 "metadata": {
  "kernelspec": {
   "display_name": ".venv",
   "language": "python",
   "name": "python3"
  },
  "language_info": {
   "codemirror_mode": {
    "name": "ipython",
    "version": 3
   },
   "file_extension": ".py",
   "mimetype": "text/x-python",
   "name": "python",
   "nbconvert_exporter": "python",
   "pygments_lexer": "ipython3",
   "version": "3.10.12"
  }
 },
 "nbformat": 4,
 "nbformat_minor": 2
}
